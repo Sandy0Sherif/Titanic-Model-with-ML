{
 "cells": [
  {
   "cell_type": "markdown",
   "id": "63b210cc",
   "metadata": {
    "papermill": {
     "duration": 0.019871,
     "end_time": "2023-09-28T18:04:00.740743",
     "exception": false,
     "start_time": "2023-09-28T18:04:00.720872",
     "status": "completed"
    },
    "tags": []
   },
   "source": [
    "**What are questions that you need the data to Answer🤔? **\n",
    "\n",
    "- Does age has impact on survived or not?\n",
    "- Does gender has impact on survived or not?\n",
    "- Does Pclass has impact on survived or not?\n",
    "- Does SibSp has impact on survived or not?\n",
    "- Does Parch has impact on survived or not?\n",
    "- Does cabin has impact on survived or not?\n",
    "- Does ticket has impact on survived or not?\n",
    "- Does embarked has impact on survived or not?"
   ]
  },
  {
   "cell_type": "code",
   "execution_count": 1,
   "id": "6fb85ea4",
   "metadata": {
    "execution": {
     "iopub.execute_input": "2023-09-28T18:04:00.783743Z",
     "iopub.status.busy": "2023-09-28T18:04:00.783028Z",
     "iopub.status.idle": "2023-09-28T18:04:01.194713Z",
     "shell.execute_reply": "2023-09-28T18:04:01.193736Z"
    },
    "papermill": {
     "duration": 0.436274,
     "end_time": "2023-09-28T18:04:01.197578",
     "exception": false,
     "start_time": "2023-09-28T18:04:00.761304",
     "status": "completed"
    },
    "tags": []
   },
   "outputs": [],
   "source": [
    "import pandas as pd"
   ]
  },
  {
   "cell_type": "code",
   "execution_count": 2,
   "id": "6bda5e55",
   "metadata": {
    "execution": {
     "iopub.execute_input": "2023-09-28T18:04:01.239081Z",
     "iopub.status.busy": "2023-09-28T18:04:01.238320Z",
     "iopub.status.idle": "2023-09-28T18:04:01.293352Z",
     "shell.execute_reply": "2023-09-28T18:04:01.292580Z"
    },
    "papermill": {
     "duration": 0.078954,
     "end_time": "2023-09-28T18:04:01.296123",
     "exception": false,
     "start_time": "2023-09-28T18:04:01.217169",
     "status": "completed"
    },
    "tags": []
   },
   "outputs": [
    {
     "data": {
      "text/html": [
       "<div>\n",
       "<style scoped>\n",
       "    .dataframe tbody tr th:only-of-type {\n",
       "        vertical-align: middle;\n",
       "    }\n",
       "\n",
       "    .dataframe tbody tr th {\n",
       "        vertical-align: top;\n",
       "    }\n",
       "\n",
       "    .dataframe thead th {\n",
       "        text-align: right;\n",
       "    }\n",
       "</style>\n",
       "<table border=\"1\" class=\"dataframe\">\n",
       "  <thead>\n",
       "    <tr style=\"text-align: right;\">\n",
       "      <th></th>\n",
       "      <th>PassengerId</th>\n",
       "      <th>Survived</th>\n",
       "      <th>Pclass</th>\n",
       "      <th>Name</th>\n",
       "      <th>Sex</th>\n",
       "      <th>Age</th>\n",
       "      <th>SibSp</th>\n",
       "      <th>Parch</th>\n",
       "      <th>Ticket</th>\n",
       "      <th>Fare</th>\n",
       "      <th>Cabin</th>\n",
       "      <th>Embarked</th>\n",
       "    </tr>\n",
       "  </thead>\n",
       "  <tbody>\n",
       "    <tr>\n",
       "      <th>0</th>\n",
       "      <td>1</td>\n",
       "      <td>0</td>\n",
       "      <td>3</td>\n",
       "      <td>Braund, Mr. Owen Harris</td>\n",
       "      <td>male</td>\n",
       "      <td>22.0</td>\n",
       "      <td>1</td>\n",
       "      <td>0</td>\n",
       "      <td>A/5 21171</td>\n",
       "      <td>7.2500</td>\n",
       "      <td>NaN</td>\n",
       "      <td>S</td>\n",
       "    </tr>\n",
       "    <tr>\n",
       "      <th>1</th>\n",
       "      <td>2</td>\n",
       "      <td>1</td>\n",
       "      <td>1</td>\n",
       "      <td>Cumings, Mrs. John Bradley (Florence Briggs Th...</td>\n",
       "      <td>female</td>\n",
       "      <td>38.0</td>\n",
       "      <td>1</td>\n",
       "      <td>0</td>\n",
       "      <td>PC 17599</td>\n",
       "      <td>71.2833</td>\n",
       "      <td>C85</td>\n",
       "      <td>C</td>\n",
       "    </tr>\n",
       "    <tr>\n",
       "      <th>2</th>\n",
       "      <td>3</td>\n",
       "      <td>1</td>\n",
       "      <td>3</td>\n",
       "      <td>Heikkinen, Miss. Laina</td>\n",
       "      <td>female</td>\n",
       "      <td>26.0</td>\n",
       "      <td>0</td>\n",
       "      <td>0</td>\n",
       "      <td>STON/O2. 3101282</td>\n",
       "      <td>7.9250</td>\n",
       "      <td>NaN</td>\n",
       "      <td>S</td>\n",
       "    </tr>\n",
       "    <tr>\n",
       "      <th>3</th>\n",
       "      <td>4</td>\n",
       "      <td>1</td>\n",
       "      <td>1</td>\n",
       "      <td>Futrelle, Mrs. Jacques Heath (Lily May Peel)</td>\n",
       "      <td>female</td>\n",
       "      <td>35.0</td>\n",
       "      <td>1</td>\n",
       "      <td>0</td>\n",
       "      <td>113803</td>\n",
       "      <td>53.1000</td>\n",
       "      <td>C123</td>\n",
       "      <td>S</td>\n",
       "    </tr>\n",
       "    <tr>\n",
       "      <th>4</th>\n",
       "      <td>5</td>\n",
       "      <td>0</td>\n",
       "      <td>3</td>\n",
       "      <td>Allen, Mr. William Henry</td>\n",
       "      <td>male</td>\n",
       "      <td>35.0</td>\n",
       "      <td>0</td>\n",
       "      <td>0</td>\n",
       "      <td>373450</td>\n",
       "      <td>8.0500</td>\n",
       "      <td>NaN</td>\n",
       "      <td>S</td>\n",
       "    </tr>\n",
       "  </tbody>\n",
       "</table>\n",
       "</div>"
      ],
      "text/plain": [
       "   PassengerId  Survived  Pclass  \\\n",
       "0            1         0       3   \n",
       "1            2         1       1   \n",
       "2            3         1       3   \n",
       "3            4         1       1   \n",
       "4            5         0       3   \n",
       "\n",
       "                                                Name     Sex   Age  SibSp  \\\n",
       "0                            Braund, Mr. Owen Harris    male  22.0      1   \n",
       "1  Cumings, Mrs. John Bradley (Florence Briggs Th...  female  38.0      1   \n",
       "2                             Heikkinen, Miss. Laina  female  26.0      0   \n",
       "3       Futrelle, Mrs. Jacques Heath (Lily May Peel)  female  35.0      1   \n",
       "4                           Allen, Mr. William Henry    male  35.0      0   \n",
       "\n",
       "   Parch            Ticket     Fare Cabin Embarked  \n",
       "0      0         A/5 21171   7.2500   NaN        S  \n",
       "1      0          PC 17599  71.2833   C85        C  \n",
       "2      0  STON/O2. 3101282   7.9250   NaN        S  \n",
       "3      0            113803  53.1000  C123        S  \n",
       "4      0            373450   8.0500   NaN        S  "
      ]
     },
     "execution_count": 2,
     "metadata": {},
     "output_type": "execute_result"
    }
   ],
   "source": [
    "df=pd.read_csv('/kaggle/input/titanic/train.csv')\n",
    "test_df=pd.read_csv('/kaggle/input/titanic/test.csv')\n",
    "\n",
    "df.head()"
   ]
  },
  {
   "cell_type": "code",
   "execution_count": 3,
   "id": "52ffa2d8",
   "metadata": {
    "execution": {
     "iopub.execute_input": "2023-09-28T18:04:01.338821Z",
     "iopub.status.busy": "2023-09-28T18:04:01.337852Z",
     "iopub.status.idle": "2023-09-28T18:04:01.344386Z",
     "shell.execute_reply": "2023-09-28T18:04:01.343458Z"
    },
    "papermill": {
     "duration": 0.029945,
     "end_time": "2023-09-28T18:04:01.346691",
     "exception": false,
     "start_time": "2023-09-28T18:04:01.316746",
     "status": "completed"
    },
    "tags": []
   },
   "outputs": [
    {
     "data": {
      "text/plain": [
       "(891, 12)"
      ]
     },
     "execution_count": 3,
     "metadata": {},
     "output_type": "execute_result"
    }
   ],
   "source": [
    "df.shape"
   ]
  },
  {
   "cell_type": "code",
   "execution_count": 4,
   "id": "47bd4b9f",
   "metadata": {
    "execution": {
     "iopub.execute_input": "2023-09-28T18:04:01.388975Z",
     "iopub.status.busy": "2023-09-28T18:04:01.388368Z",
     "iopub.status.idle": "2023-09-28T18:04:01.417141Z",
     "shell.execute_reply": "2023-09-28T18:04:01.415492Z"
    },
    "papermill": {
     "duration": 0.052626,
     "end_time": "2023-09-28T18:04:01.419530",
     "exception": false,
     "start_time": "2023-09-28T18:04:01.366904",
     "status": "completed"
    },
    "tags": []
   },
   "outputs": [
    {
     "name": "stdout",
     "output_type": "stream",
     "text": [
      "<class 'pandas.core.frame.DataFrame'>\n",
      "RangeIndex: 891 entries, 0 to 890\n",
      "Data columns (total 12 columns):\n",
      " #   Column       Non-Null Count  Dtype  \n",
      "---  ------       --------------  -----  \n",
      " 0   PassengerId  891 non-null    int64  \n",
      " 1   Survived     891 non-null    int64  \n",
      " 2   Pclass       891 non-null    int64  \n",
      " 3   Name         891 non-null    object \n",
      " 4   Sex          891 non-null    object \n",
      " 5   Age          714 non-null    float64\n",
      " 6   SibSp        891 non-null    int64  \n",
      " 7   Parch        891 non-null    int64  \n",
      " 8   Ticket       891 non-null    object \n",
      " 9   Fare         891 non-null    float64\n",
      " 10  Cabin        204 non-null    object \n",
      " 11  Embarked     889 non-null    object \n",
      "dtypes: float64(2), int64(5), object(5)\n",
      "memory usage: 83.7+ KB\n"
     ]
    }
   ],
   "source": [
    "df.info()"
   ]
  },
  {
   "cell_type": "code",
   "execution_count": 5,
   "id": "dc07b216",
   "metadata": {
    "execution": {
     "iopub.execute_input": "2023-09-28T18:04:01.461980Z",
     "iopub.status.busy": "2023-09-28T18:04:01.461614Z",
     "iopub.status.idle": "2023-09-28T18:04:01.493916Z",
     "shell.execute_reply": "2023-09-28T18:04:01.492913Z"
    },
    "papermill": {
     "duration": 0.056207,
     "end_time": "2023-09-28T18:04:01.496237",
     "exception": false,
     "start_time": "2023-09-28T18:04:01.440030",
     "status": "completed"
    },
    "tags": []
   },
   "outputs": [
    {
     "data": {
      "text/html": [
       "<div>\n",
       "<style scoped>\n",
       "    .dataframe tbody tr th:only-of-type {\n",
       "        vertical-align: middle;\n",
       "    }\n",
       "\n",
       "    .dataframe tbody tr th {\n",
       "        vertical-align: top;\n",
       "    }\n",
       "\n",
       "    .dataframe thead th {\n",
       "        text-align: right;\n",
       "    }\n",
       "</style>\n",
       "<table border=\"1\" class=\"dataframe\">\n",
       "  <thead>\n",
       "    <tr style=\"text-align: right;\">\n",
       "      <th></th>\n",
       "      <th>PassengerId</th>\n",
       "      <th>Survived</th>\n",
       "      <th>Pclass</th>\n",
       "      <th>Age</th>\n",
       "      <th>SibSp</th>\n",
       "      <th>Parch</th>\n",
       "      <th>Fare</th>\n",
       "    </tr>\n",
       "  </thead>\n",
       "  <tbody>\n",
       "    <tr>\n",
       "      <th>count</th>\n",
       "      <td>891.000000</td>\n",
       "      <td>891.000000</td>\n",
       "      <td>891.000000</td>\n",
       "      <td>714.000000</td>\n",
       "      <td>891.000000</td>\n",
       "      <td>891.000000</td>\n",
       "      <td>891.000000</td>\n",
       "    </tr>\n",
       "    <tr>\n",
       "      <th>mean</th>\n",
       "      <td>446.000000</td>\n",
       "      <td>0.383838</td>\n",
       "      <td>2.308642</td>\n",
       "      <td>29.699118</td>\n",
       "      <td>0.523008</td>\n",
       "      <td>0.381594</td>\n",
       "      <td>32.204208</td>\n",
       "    </tr>\n",
       "    <tr>\n",
       "      <th>std</th>\n",
       "      <td>257.353842</td>\n",
       "      <td>0.486592</td>\n",
       "      <td>0.836071</td>\n",
       "      <td>14.526497</td>\n",
       "      <td>1.102743</td>\n",
       "      <td>0.806057</td>\n",
       "      <td>49.693429</td>\n",
       "    </tr>\n",
       "    <tr>\n",
       "      <th>min</th>\n",
       "      <td>1.000000</td>\n",
       "      <td>0.000000</td>\n",
       "      <td>1.000000</td>\n",
       "      <td>0.420000</td>\n",
       "      <td>0.000000</td>\n",
       "      <td>0.000000</td>\n",
       "      <td>0.000000</td>\n",
       "    </tr>\n",
       "    <tr>\n",
       "      <th>25%</th>\n",
       "      <td>223.500000</td>\n",
       "      <td>0.000000</td>\n",
       "      <td>2.000000</td>\n",
       "      <td>20.125000</td>\n",
       "      <td>0.000000</td>\n",
       "      <td>0.000000</td>\n",
       "      <td>7.910400</td>\n",
       "    </tr>\n",
       "    <tr>\n",
       "      <th>50%</th>\n",
       "      <td>446.000000</td>\n",
       "      <td>0.000000</td>\n",
       "      <td>3.000000</td>\n",
       "      <td>28.000000</td>\n",
       "      <td>0.000000</td>\n",
       "      <td>0.000000</td>\n",
       "      <td>14.454200</td>\n",
       "    </tr>\n",
       "    <tr>\n",
       "      <th>75%</th>\n",
       "      <td>668.500000</td>\n",
       "      <td>1.000000</td>\n",
       "      <td>3.000000</td>\n",
       "      <td>38.000000</td>\n",
       "      <td>1.000000</td>\n",
       "      <td>0.000000</td>\n",
       "      <td>31.000000</td>\n",
       "    </tr>\n",
       "    <tr>\n",
       "      <th>max</th>\n",
       "      <td>891.000000</td>\n",
       "      <td>1.000000</td>\n",
       "      <td>3.000000</td>\n",
       "      <td>80.000000</td>\n",
       "      <td>8.000000</td>\n",
       "      <td>6.000000</td>\n",
       "      <td>512.329200</td>\n",
       "    </tr>\n",
       "  </tbody>\n",
       "</table>\n",
       "</div>"
      ],
      "text/plain": [
       "       PassengerId    Survived      Pclass         Age       SibSp  \\\n",
       "count   891.000000  891.000000  891.000000  714.000000  891.000000   \n",
       "mean    446.000000    0.383838    2.308642   29.699118    0.523008   \n",
       "std     257.353842    0.486592    0.836071   14.526497    1.102743   \n",
       "min       1.000000    0.000000    1.000000    0.420000    0.000000   \n",
       "25%     223.500000    0.000000    2.000000   20.125000    0.000000   \n",
       "50%     446.000000    0.000000    3.000000   28.000000    0.000000   \n",
       "75%     668.500000    1.000000    3.000000   38.000000    1.000000   \n",
       "max     891.000000    1.000000    3.000000   80.000000    8.000000   \n",
       "\n",
       "            Parch        Fare  \n",
       "count  891.000000  891.000000  \n",
       "mean     0.381594   32.204208  \n",
       "std      0.806057   49.693429  \n",
       "min      0.000000    0.000000  \n",
       "25%      0.000000    7.910400  \n",
       "50%      0.000000   14.454200  \n",
       "75%      0.000000   31.000000  \n",
       "max      6.000000  512.329200  "
      ]
     },
     "execution_count": 5,
     "metadata": {},
     "output_type": "execute_result"
    }
   ],
   "source": [
    "df.describe()"
   ]
  },
  {
   "cell_type": "code",
   "execution_count": 6,
   "id": "79daf7ae",
   "metadata": {
    "execution": {
     "iopub.execute_input": "2023-09-28T18:04:01.539411Z",
     "iopub.status.busy": "2023-09-28T18:04:01.539004Z",
     "iopub.status.idle": "2023-09-28T18:04:01.560712Z",
     "shell.execute_reply": "2023-09-28T18:04:01.559857Z"
    },
    "papermill": {
     "duration": 0.045935,
     "end_time": "2023-09-28T18:04:01.562884",
     "exception": false,
     "start_time": "2023-09-28T18:04:01.516949",
     "status": "completed"
    },
    "tags": []
   },
   "outputs": [
    {
     "data": {
      "text/html": [
       "<div>\n",
       "<style scoped>\n",
       "    .dataframe tbody tr th:only-of-type {\n",
       "        vertical-align: middle;\n",
       "    }\n",
       "\n",
       "    .dataframe tbody tr th {\n",
       "        vertical-align: top;\n",
       "    }\n",
       "\n",
       "    .dataframe thead th {\n",
       "        text-align: right;\n",
       "    }\n",
       "</style>\n",
       "<table border=\"1\" class=\"dataframe\">\n",
       "  <thead>\n",
       "    <tr style=\"text-align: right;\">\n",
       "      <th></th>\n",
       "      <th>Name</th>\n",
       "      <th>Sex</th>\n",
       "      <th>Ticket</th>\n",
       "      <th>Cabin</th>\n",
       "      <th>Embarked</th>\n",
       "    </tr>\n",
       "  </thead>\n",
       "  <tbody>\n",
       "    <tr>\n",
       "      <th>count</th>\n",
       "      <td>891</td>\n",
       "      <td>891</td>\n",
       "      <td>891</td>\n",
       "      <td>204</td>\n",
       "      <td>889</td>\n",
       "    </tr>\n",
       "    <tr>\n",
       "      <th>unique</th>\n",
       "      <td>891</td>\n",
       "      <td>2</td>\n",
       "      <td>681</td>\n",
       "      <td>147</td>\n",
       "      <td>3</td>\n",
       "    </tr>\n",
       "    <tr>\n",
       "      <th>top</th>\n",
       "      <td>Braund, Mr. Owen Harris</td>\n",
       "      <td>male</td>\n",
       "      <td>347082</td>\n",
       "      <td>B96 B98</td>\n",
       "      <td>S</td>\n",
       "    </tr>\n",
       "    <tr>\n",
       "      <th>freq</th>\n",
       "      <td>1</td>\n",
       "      <td>577</td>\n",
       "      <td>7</td>\n",
       "      <td>4</td>\n",
       "      <td>644</td>\n",
       "    </tr>\n",
       "  </tbody>\n",
       "</table>\n",
       "</div>"
      ],
      "text/plain": [
       "                           Name   Sex  Ticket    Cabin Embarked\n",
       "count                       891   891     891      204      889\n",
       "unique                      891     2     681      147        3\n",
       "top     Braund, Mr. Owen Harris  male  347082  B96 B98        S\n",
       "freq                          1   577       7        4      644"
      ]
     },
     "execution_count": 6,
     "metadata": {},
     "output_type": "execute_result"
    }
   ],
   "source": [
    "df.describe(include='O')"
   ]
  },
  {
   "cell_type": "code",
   "execution_count": 7,
   "id": "ddb0d738",
   "metadata": {
    "execution": {
     "iopub.execute_input": "2023-09-28T18:04:01.606633Z",
     "iopub.status.busy": "2023-09-28T18:04:01.606187Z",
     "iopub.status.idle": "2023-09-28T18:04:01.613123Z",
     "shell.execute_reply": "2023-09-28T18:04:01.612109Z"
    },
    "papermill": {
     "duration": 0.031628,
     "end_time": "2023-09-28T18:04:01.615444",
     "exception": false,
     "start_time": "2023-09-28T18:04:01.583816",
     "status": "completed"
    },
    "tags": []
   },
   "outputs": [
    {
     "data": {
      "text/plain": [
       "Index(['PassengerId', 'Survived', 'Pclass', 'Name', 'Sex', 'Age', 'SibSp',\n",
       "       'Parch', 'Ticket', 'Fare', 'Cabin', 'Embarked'],\n",
       "      dtype='object')"
      ]
     },
     "execution_count": 7,
     "metadata": {},
     "output_type": "execute_result"
    }
   ],
   "source": [
    "df.columns"
   ]
  },
  {
   "cell_type": "markdown",
   "id": "8d03132e",
   "metadata": {
    "papermill": {
     "duration": 0.020521,
     "end_time": "2023-09-28T18:04:01.657096",
     "exception": false,
     "start_time": "2023-09-28T18:04:01.636575",
     "status": "completed"
    },
    "tags": []
   },
   "source": [
    "# list the features we have\n",
    "\n",
    "- sibsp : Number of Siblings/Spouses Aboard\n",
    "- parch : Number of Parents/Children Aboard\n",
    "\n",
    "***1. Categorical features***\n",
    "   * name\n",
    "   * sex   \n",
    "   * ticket\n",
    "   * cabin\n",
    "   * embarked\n",
    "   \n",
    "***2. Numerical features***\n",
    "   * PassengerId\n",
    "   * Survived\n",
    "   * Pclass\n",
    "   * Age\n",
    "   * SibSp\n",
    "   * Parch\n",
    "   * Fare\n",
    "  "
   ]
  },
  {
   "cell_type": "markdown",
   "id": "d2e9504d",
   "metadata": {
    "papermill": {
     "duration": 0.020858,
     "end_time": "2023-09-28T18:04:01.698833",
     "exception": false,
     "start_time": "2023-09-28T18:04:01.677975",
     "status": "completed"
    },
    "tags": []
   },
   "source": [
    "# Data Preperation"
   ]
  },
  {
   "cell_type": "code",
   "execution_count": 8,
   "id": "f8597e8a",
   "metadata": {
    "execution": {
     "iopub.execute_input": "2023-09-28T18:04:01.743607Z",
     "iopub.status.busy": "2023-09-28T18:04:01.743188Z",
     "iopub.status.idle": "2023-09-28T18:04:01.752389Z",
     "shell.execute_reply": "2023-09-28T18:04:01.751311Z"
    },
    "papermill": {
     "duration": 0.034441,
     "end_time": "2023-09-28T18:04:01.754686",
     "exception": false,
     "start_time": "2023-09-28T18:04:01.720245",
     "status": "completed"
    },
    "tags": []
   },
   "outputs": [
    {
     "data": {
      "text/plain": [
       "PassengerId      0\n",
       "Survived         0\n",
       "Pclass           0\n",
       "Name             0\n",
       "Sex              0\n",
       "Age            177\n",
       "SibSp            0\n",
       "Parch            0\n",
       "Ticket           0\n",
       "Fare             0\n",
       "Cabin          687\n",
       "Embarked         2\n",
       "dtype: int64"
      ]
     },
     "execution_count": 8,
     "metadata": {},
     "output_type": "execute_result"
    }
   ],
   "source": [
    "df.isnull().sum()"
   ]
  },
  {
   "cell_type": "code",
   "execution_count": 9,
   "id": "d365db22",
   "metadata": {
    "execution": {
     "iopub.execute_input": "2023-09-28T18:04:01.857107Z",
     "iopub.status.busy": "2023-09-28T18:04:01.856038Z",
     "iopub.status.idle": "2023-09-28T18:04:01.862768Z",
     "shell.execute_reply": "2023-09-28T18:04:01.861761Z"
    },
    "papermill": {
     "duration": 0.088745,
     "end_time": "2023-09-28T18:04:01.864859",
     "exception": false,
     "start_time": "2023-09-28T18:04:01.776114",
     "status": "completed"
    },
    "tags": []
   },
   "outputs": [
    {
     "data": {
      "text/plain": [
       "29.69911764705882"
      ]
     },
     "execution_count": 9,
     "metadata": {},
     "output_type": "execute_result"
    }
   ],
   "source": [
    "df['Age'].mean()"
   ]
  },
  {
   "cell_type": "code",
   "execution_count": 10,
   "id": "ddf42aba",
   "metadata": {
    "execution": {
     "iopub.execute_input": "2023-09-28T18:04:01.909955Z",
     "iopub.status.busy": "2023-09-28T18:04:01.909345Z",
     "iopub.status.idle": "2023-09-28T18:04:01.918241Z",
     "shell.execute_reply": "2023-09-28T18:04:01.916804Z"
    },
    "papermill": {
     "duration": 0.034541,
     "end_time": "2023-09-28T18:04:01.920806",
     "exception": false,
     "start_time": "2023-09-28T18:04:01.886265",
     "status": "completed"
    },
    "tags": []
   },
   "outputs": [],
   "source": [
    "df['Age'] = df['Age'].fillna(df['Age'].mean())\n",
    "test_df['Age'] = test_df['Age'].fillna(test_df['Age'].mean())"
   ]
  },
  {
   "cell_type": "code",
   "execution_count": 11,
   "id": "f595578e",
   "metadata": {
    "execution": {
     "iopub.execute_input": "2023-09-28T18:04:01.965785Z",
     "iopub.status.busy": "2023-09-28T18:04:01.965366Z",
     "iopub.status.idle": "2023-09-28T18:04:01.974020Z",
     "shell.execute_reply": "2023-09-28T18:04:01.972928Z"
    },
    "papermill": {
     "duration": 0.034202,
     "end_time": "2023-09-28T18:04:01.976599",
     "exception": false,
     "start_time": "2023-09-28T18:04:01.942397",
     "status": "completed"
    },
    "tags": []
   },
   "outputs": [],
   "source": [
    "df['Embarked'] = df['Embarked'].fillna(df['Embarked'].mode()[0])\n",
    "test_df['Embarked'] = test_df['Embarked'].fillna(test_df['Embarked'].mode()[0])"
   ]
  },
  {
   "cell_type": "code",
   "execution_count": 12,
   "id": "2b3a7ba0",
   "metadata": {
    "execution": {
     "iopub.execute_input": "2023-09-28T18:04:02.023447Z",
     "iopub.status.busy": "2023-09-28T18:04:02.022691Z",
     "iopub.status.idle": "2023-09-28T18:04:02.029049Z",
     "shell.execute_reply": "2023-09-28T18:04:02.028021Z"
    },
    "papermill": {
     "duration": 0.031572,
     "end_time": "2023-09-28T18:04:02.031465",
     "exception": false,
     "start_time": "2023-09-28T18:04:01.999893",
     "status": "completed"
    },
    "tags": []
   },
   "outputs": [],
   "source": [
    "test_df['Fare'] = test_df['Fare'].fillna(test_df['Fare'].mode()[0])"
   ]
  },
  {
   "cell_type": "code",
   "execution_count": 13,
   "id": "b1fe6c20",
   "metadata": {
    "execution": {
     "iopub.execute_input": "2023-09-28T18:04:02.076559Z",
     "iopub.status.busy": "2023-09-28T18:04:02.076098Z",
     "iopub.status.idle": "2023-09-28T18:04:02.086333Z",
     "shell.execute_reply": "2023-09-28T18:04:02.085107Z"
    },
    "papermill": {
     "duration": 0.035759,
     "end_time": "2023-09-28T18:04:02.088658",
     "exception": false,
     "start_time": "2023-09-28T18:04:02.052899",
     "status": "completed"
    },
    "tags": []
   },
   "outputs": [],
   "source": [
    "df.drop(columns=['Cabin'], inplace=True)\n",
    "test_df.drop(columns=['Cabin'], inplace=True)"
   ]
  },
  {
   "cell_type": "code",
   "execution_count": 14,
   "id": "9ec895f0",
   "metadata": {
    "execution": {
     "iopub.execute_input": "2023-09-28T18:04:02.134225Z",
     "iopub.status.busy": "2023-09-28T18:04:02.133369Z",
     "iopub.status.idle": "2023-09-28T18:04:02.143176Z",
     "shell.execute_reply": "2023-09-28T18:04:02.142109Z"
    },
    "papermill": {
     "duration": 0.035453,
     "end_time": "2023-09-28T18:04:02.145642",
     "exception": false,
     "start_time": "2023-09-28T18:04:02.110189",
     "status": "completed"
    },
    "tags": []
   },
   "outputs": [
    {
     "data": {
      "text/plain": [
       "PassengerId    0\n",
       "Survived       0\n",
       "Pclass         0\n",
       "Name           0\n",
       "Sex            0\n",
       "Age            0\n",
       "SibSp          0\n",
       "Parch          0\n",
       "Ticket         0\n",
       "Fare           0\n",
       "Embarked       0\n",
       "dtype: int64"
      ]
     },
     "execution_count": 14,
     "metadata": {},
     "output_type": "execute_result"
    }
   ],
   "source": [
    "df.isnull().sum()"
   ]
  },
  {
   "cell_type": "code",
   "execution_count": 15,
   "id": "cbddb9e2",
   "metadata": {
    "execution": {
     "iopub.execute_input": "2023-09-28T18:04:02.190410Z",
     "iopub.status.busy": "2023-09-28T18:04:02.190000Z",
     "iopub.status.idle": "2023-09-28T18:04:02.196855Z",
     "shell.execute_reply": "2023-09-28T18:04:02.195789Z"
    },
    "papermill": {
     "duration": 0.031617,
     "end_time": "2023-09-28T18:04:02.198969",
     "exception": false,
     "start_time": "2023-09-28T18:04:02.167352",
     "status": "completed"
    },
    "tags": []
   },
   "outputs": [
    {
     "data": {
      "text/plain": [
       "(891, 11)"
      ]
     },
     "execution_count": 15,
     "metadata": {},
     "output_type": "execute_result"
    }
   ],
   "source": [
    "df.shape"
   ]
  },
  {
   "cell_type": "code",
   "execution_count": 16,
   "id": "741779d1",
   "metadata": {
    "execution": {
     "iopub.execute_input": "2023-09-28T18:04:02.244632Z",
     "iopub.status.busy": "2023-09-28T18:04:02.244159Z",
     "iopub.status.idle": "2023-09-28T18:04:02.267312Z",
     "shell.execute_reply": "2023-09-28T18:04:02.266384Z"
    },
    "papermill": {
     "duration": 0.048698,
     "end_time": "2023-09-28T18:04:02.269873",
     "exception": false,
     "start_time": "2023-09-28T18:04:02.221175",
     "status": "completed"
    },
    "tags": []
   },
   "outputs": [
    {
     "data": {
      "text/html": [
       "<div>\n",
       "<style scoped>\n",
       "    .dataframe tbody tr th:only-of-type {\n",
       "        vertical-align: middle;\n",
       "    }\n",
       "\n",
       "    .dataframe tbody tr th {\n",
       "        vertical-align: top;\n",
       "    }\n",
       "\n",
       "    .dataframe thead th {\n",
       "        text-align: right;\n",
       "    }\n",
       "</style>\n",
       "<table border=\"1\" class=\"dataframe\">\n",
       "  <thead>\n",
       "    <tr style=\"text-align: right;\">\n",
       "      <th></th>\n",
       "      <th>PassengerId</th>\n",
       "      <th>Survived</th>\n",
       "      <th>Pclass</th>\n",
       "      <th>Name</th>\n",
       "      <th>Sex</th>\n",
       "      <th>Age</th>\n",
       "      <th>SibSp</th>\n",
       "      <th>Parch</th>\n",
       "      <th>Ticket</th>\n",
       "      <th>Fare</th>\n",
       "      <th>Embarked</th>\n",
       "    </tr>\n",
       "  </thead>\n",
       "  <tbody>\n",
       "    <tr>\n",
       "      <th>0</th>\n",
       "      <td>1</td>\n",
       "      <td>0</td>\n",
       "      <td>3</td>\n",
       "      <td>Braund, Mr. Owen Harris</td>\n",
       "      <td>male</td>\n",
       "      <td>22.000000</td>\n",
       "      <td>1</td>\n",
       "      <td>0</td>\n",
       "      <td>A/5 21171</td>\n",
       "      <td>7.2500</td>\n",
       "      <td>S</td>\n",
       "    </tr>\n",
       "    <tr>\n",
       "      <th>1</th>\n",
       "      <td>2</td>\n",
       "      <td>1</td>\n",
       "      <td>1</td>\n",
       "      <td>Cumings, Mrs. John Bradley (Florence Briggs Th...</td>\n",
       "      <td>female</td>\n",
       "      <td>38.000000</td>\n",
       "      <td>1</td>\n",
       "      <td>0</td>\n",
       "      <td>PC 17599</td>\n",
       "      <td>71.2833</td>\n",
       "      <td>C</td>\n",
       "    </tr>\n",
       "    <tr>\n",
       "      <th>2</th>\n",
       "      <td>3</td>\n",
       "      <td>1</td>\n",
       "      <td>3</td>\n",
       "      <td>Heikkinen, Miss. Laina</td>\n",
       "      <td>female</td>\n",
       "      <td>26.000000</td>\n",
       "      <td>0</td>\n",
       "      <td>0</td>\n",
       "      <td>STON/O2. 3101282</td>\n",
       "      <td>7.9250</td>\n",
       "      <td>S</td>\n",
       "    </tr>\n",
       "    <tr>\n",
       "      <th>3</th>\n",
       "      <td>4</td>\n",
       "      <td>1</td>\n",
       "      <td>1</td>\n",
       "      <td>Futrelle, Mrs. Jacques Heath (Lily May Peel)</td>\n",
       "      <td>female</td>\n",
       "      <td>35.000000</td>\n",
       "      <td>1</td>\n",
       "      <td>0</td>\n",
       "      <td>113803</td>\n",
       "      <td>53.1000</td>\n",
       "      <td>S</td>\n",
       "    </tr>\n",
       "    <tr>\n",
       "      <th>4</th>\n",
       "      <td>5</td>\n",
       "      <td>0</td>\n",
       "      <td>3</td>\n",
       "      <td>Allen, Mr. William Henry</td>\n",
       "      <td>male</td>\n",
       "      <td>35.000000</td>\n",
       "      <td>0</td>\n",
       "      <td>0</td>\n",
       "      <td>373450</td>\n",
       "      <td>8.0500</td>\n",
       "      <td>S</td>\n",
       "    </tr>\n",
       "    <tr>\n",
       "      <th>...</th>\n",
       "      <td>...</td>\n",
       "      <td>...</td>\n",
       "      <td>...</td>\n",
       "      <td>...</td>\n",
       "      <td>...</td>\n",
       "      <td>...</td>\n",
       "      <td>...</td>\n",
       "      <td>...</td>\n",
       "      <td>...</td>\n",
       "      <td>...</td>\n",
       "      <td>...</td>\n",
       "    </tr>\n",
       "    <tr>\n",
       "      <th>886</th>\n",
       "      <td>887</td>\n",
       "      <td>0</td>\n",
       "      <td>2</td>\n",
       "      <td>Montvila, Rev. Juozas</td>\n",
       "      <td>male</td>\n",
       "      <td>27.000000</td>\n",
       "      <td>0</td>\n",
       "      <td>0</td>\n",
       "      <td>211536</td>\n",
       "      <td>13.0000</td>\n",
       "      <td>S</td>\n",
       "    </tr>\n",
       "    <tr>\n",
       "      <th>887</th>\n",
       "      <td>888</td>\n",
       "      <td>1</td>\n",
       "      <td>1</td>\n",
       "      <td>Graham, Miss. Margaret Edith</td>\n",
       "      <td>female</td>\n",
       "      <td>19.000000</td>\n",
       "      <td>0</td>\n",
       "      <td>0</td>\n",
       "      <td>112053</td>\n",
       "      <td>30.0000</td>\n",
       "      <td>S</td>\n",
       "    </tr>\n",
       "    <tr>\n",
       "      <th>888</th>\n",
       "      <td>889</td>\n",
       "      <td>0</td>\n",
       "      <td>3</td>\n",
       "      <td>Johnston, Miss. Catherine Helen \"Carrie\"</td>\n",
       "      <td>female</td>\n",
       "      <td>29.699118</td>\n",
       "      <td>1</td>\n",
       "      <td>2</td>\n",
       "      <td>W./C. 6607</td>\n",
       "      <td>23.4500</td>\n",
       "      <td>S</td>\n",
       "    </tr>\n",
       "    <tr>\n",
       "      <th>889</th>\n",
       "      <td>890</td>\n",
       "      <td>1</td>\n",
       "      <td>1</td>\n",
       "      <td>Behr, Mr. Karl Howell</td>\n",
       "      <td>male</td>\n",
       "      <td>26.000000</td>\n",
       "      <td>0</td>\n",
       "      <td>0</td>\n",
       "      <td>111369</td>\n",
       "      <td>30.0000</td>\n",
       "      <td>C</td>\n",
       "    </tr>\n",
       "    <tr>\n",
       "      <th>890</th>\n",
       "      <td>891</td>\n",
       "      <td>0</td>\n",
       "      <td>3</td>\n",
       "      <td>Dooley, Mr. Patrick</td>\n",
       "      <td>male</td>\n",
       "      <td>32.000000</td>\n",
       "      <td>0</td>\n",
       "      <td>0</td>\n",
       "      <td>370376</td>\n",
       "      <td>7.7500</td>\n",
       "      <td>Q</td>\n",
       "    </tr>\n",
       "  </tbody>\n",
       "</table>\n",
       "<p>891 rows × 11 columns</p>\n",
       "</div>"
      ],
      "text/plain": [
       "     PassengerId  Survived  Pclass  \\\n",
       "0              1         0       3   \n",
       "1              2         1       1   \n",
       "2              3         1       3   \n",
       "3              4         1       1   \n",
       "4              5         0       3   \n",
       "..           ...       ...     ...   \n",
       "886          887         0       2   \n",
       "887          888         1       1   \n",
       "888          889         0       3   \n",
       "889          890         1       1   \n",
       "890          891         0       3   \n",
       "\n",
       "                                                  Name     Sex        Age  \\\n",
       "0                              Braund, Mr. Owen Harris    male  22.000000   \n",
       "1    Cumings, Mrs. John Bradley (Florence Briggs Th...  female  38.000000   \n",
       "2                               Heikkinen, Miss. Laina  female  26.000000   \n",
       "3         Futrelle, Mrs. Jacques Heath (Lily May Peel)  female  35.000000   \n",
       "4                             Allen, Mr. William Henry    male  35.000000   \n",
       "..                                                 ...     ...        ...   \n",
       "886                              Montvila, Rev. Juozas    male  27.000000   \n",
       "887                       Graham, Miss. Margaret Edith  female  19.000000   \n",
       "888           Johnston, Miss. Catherine Helen \"Carrie\"  female  29.699118   \n",
       "889                              Behr, Mr. Karl Howell    male  26.000000   \n",
       "890                                Dooley, Mr. Patrick    male  32.000000   \n",
       "\n",
       "     SibSp  Parch            Ticket     Fare Embarked  \n",
       "0        1      0         A/5 21171   7.2500        S  \n",
       "1        1      0          PC 17599  71.2833        C  \n",
       "2        0      0  STON/O2. 3101282   7.9250        S  \n",
       "3        1      0            113803  53.1000        S  \n",
       "4        0      0            373450   8.0500        S  \n",
       "..     ...    ...               ...      ...      ...  \n",
       "886      0      0            211536  13.0000        S  \n",
       "887      0      0            112053  30.0000        S  \n",
       "888      1      2        W./C. 6607  23.4500        S  \n",
       "889      0      0            111369  30.0000        C  \n",
       "890      0      0            370376   7.7500        Q  \n",
       "\n",
       "[891 rows x 11 columns]"
      ]
     },
     "execution_count": 16,
     "metadata": {},
     "output_type": "execute_result"
    }
   ],
   "source": [
    "df"
   ]
  },
  {
   "cell_type": "markdown",
   "id": "74f7a845",
   "metadata": {
    "papermill": {
     "duration": 0.021738,
     "end_time": "2023-09-28T18:04:02.313848",
     "exception": false,
     "start_time": "2023-09-28T18:04:02.292110",
     "status": "completed"
    },
    "tags": []
   },
   "source": [
    "# Feature Extraction"
   ]
  },
  {
   "cell_type": "code",
   "execution_count": 17,
   "id": "8bd416cc",
   "metadata": {
    "execution": {
     "iopub.execute_input": "2023-09-28T18:04:02.360316Z",
     "iopub.status.busy": "2023-09-28T18:04:02.359839Z",
     "iopub.status.idle": "2023-09-28T18:04:02.374041Z",
     "shell.execute_reply": "2023-09-28T18:04:02.372813Z"
    },
    "papermill": {
     "duration": 0.040708,
     "end_time": "2023-09-28T18:04:02.376675",
     "exception": false,
     "start_time": "2023-09-28T18:04:02.335967",
     "status": "completed"
    },
    "tags": []
   },
   "outputs": [],
   "source": [
    "df['Age_cat'] = pd.cut(df['Age'], bins = [0, 12, 18,40,65,100], labels = ['Children', 'Teens', 'Adults', 'Mid Adults','Elderly'])\n",
    "test_df['Age_cat'] = pd.cut(test_df['Age'], bins = [0, 12, 18,40,65,100], labels = ['Children', 'Teens', 'Adults', 'Mid Adults','Elderly'])"
   ]
  },
  {
   "cell_type": "code",
   "execution_count": 18,
   "id": "6fe0a754",
   "metadata": {
    "execution": {
     "iopub.execute_input": "2023-09-28T18:04:02.425315Z",
     "iopub.status.busy": "2023-09-28T18:04:02.424929Z",
     "iopub.status.idle": "2023-09-28T18:04:02.436138Z",
     "shell.execute_reply": "2023-09-28T18:04:02.435271Z"
    },
    "papermill": {
     "duration": 0.037987,
     "end_time": "2023-09-28T18:04:02.438167",
     "exception": false,
     "start_time": "2023-09-28T18:04:02.400180",
     "status": "completed"
    },
    "tags": []
   },
   "outputs": [],
   "source": [
    "df['Fare_cat'] = pd.cut(df['Fare'], bins = [float('-inf'), 7.91, 14.454,31,99,250,float('inf')], labels = [0, 1, 2, 3,4,5])\n",
    "test_df['Fare_cat'] = pd.cut(test_df['Fare'], bins = [float('-inf'), 7.91, 14.454,31,99,250,float('inf')], labels = [0, 1, 2, 3,4,5])"
   ]
  },
  {
   "cell_type": "code",
   "execution_count": 19,
   "id": "91f327bf",
   "metadata": {
    "execution": {
     "iopub.execute_input": "2023-09-28T18:04:02.485065Z",
     "iopub.status.busy": "2023-09-28T18:04:02.484701Z",
     "iopub.status.idle": "2023-09-28T18:04:02.508631Z",
     "shell.execute_reply": "2023-09-28T18:04:02.507479Z"
    },
    "papermill": {
     "duration": 0.050511,
     "end_time": "2023-09-28T18:04:02.511033",
     "exception": false,
     "start_time": "2023-09-28T18:04:02.460522",
     "status": "completed"
    },
    "tags": []
   },
   "outputs": [
    {
     "data": {
      "text/html": [
       "<div>\n",
       "<style scoped>\n",
       "    .dataframe tbody tr th:only-of-type {\n",
       "        vertical-align: middle;\n",
       "    }\n",
       "\n",
       "    .dataframe tbody tr th {\n",
       "        vertical-align: top;\n",
       "    }\n",
       "\n",
       "    .dataframe thead th {\n",
       "        text-align: right;\n",
       "    }\n",
       "</style>\n",
       "<table border=\"1\" class=\"dataframe\">\n",
       "  <thead>\n",
       "    <tr style=\"text-align: right;\">\n",
       "      <th></th>\n",
       "      <th>PassengerId</th>\n",
       "      <th>Survived</th>\n",
       "      <th>Pclass</th>\n",
       "      <th>Name</th>\n",
       "      <th>Sex</th>\n",
       "      <th>Age</th>\n",
       "      <th>SibSp</th>\n",
       "      <th>Parch</th>\n",
       "      <th>Ticket</th>\n",
       "      <th>Fare</th>\n",
       "      <th>Embarked</th>\n",
       "      <th>Age_cat</th>\n",
       "      <th>Fare_cat</th>\n",
       "    </tr>\n",
       "  </thead>\n",
       "  <tbody>\n",
       "    <tr>\n",
       "      <th>439</th>\n",
       "      <td>440</td>\n",
       "      <td>0</td>\n",
       "      <td>2</td>\n",
       "      <td>Kvillner, Mr. Johan Henrik Johannesson</td>\n",
       "      <td>male</td>\n",
       "      <td>31.000000</td>\n",
       "      <td>0</td>\n",
       "      <td>0</td>\n",
       "      <td>C.A. 18723</td>\n",
       "      <td>10.5000</td>\n",
       "      <td>S</td>\n",
       "      <td>Adults</td>\n",
       "      <td>1</td>\n",
       "    </tr>\n",
       "    <tr>\n",
       "      <th>883</th>\n",
       "      <td>884</td>\n",
       "      <td>0</td>\n",
       "      <td>2</td>\n",
       "      <td>Banfield, Mr. Frederick James</td>\n",
       "      <td>male</td>\n",
       "      <td>28.000000</td>\n",
       "      <td>0</td>\n",
       "      <td>0</td>\n",
       "      <td>C.A./SOTON 34068</td>\n",
       "      <td>10.5000</td>\n",
       "      <td>S</td>\n",
       "      <td>Adults</td>\n",
       "      <td>1</td>\n",
       "    </tr>\n",
       "    <tr>\n",
       "      <th>502</th>\n",
       "      <td>503</td>\n",
       "      <td>0</td>\n",
       "      <td>3</td>\n",
       "      <td>O'Sullivan, Miss. Bridget Mary</td>\n",
       "      <td>female</td>\n",
       "      <td>29.699118</td>\n",
       "      <td>0</td>\n",
       "      <td>0</td>\n",
       "      <td>330909</td>\n",
       "      <td>7.6292</td>\n",
       "      <td>Q</td>\n",
       "      <td>Adults</td>\n",
       "      <td>0</td>\n",
       "    </tr>\n",
       "    <tr>\n",
       "      <th>753</th>\n",
       "      <td>754</td>\n",
       "      <td>0</td>\n",
       "      <td>3</td>\n",
       "      <td>Jonkoff, Mr. Lalio</td>\n",
       "      <td>male</td>\n",
       "      <td>23.000000</td>\n",
       "      <td>0</td>\n",
       "      <td>0</td>\n",
       "      <td>349204</td>\n",
       "      <td>7.8958</td>\n",
       "      <td>S</td>\n",
       "      <td>Adults</td>\n",
       "      <td>0</td>\n",
       "    </tr>\n",
       "    <tr>\n",
       "      <th>734</th>\n",
       "      <td>735</td>\n",
       "      <td>0</td>\n",
       "      <td>2</td>\n",
       "      <td>Troupiansky, Mr. Moses Aaron</td>\n",
       "      <td>male</td>\n",
       "      <td>23.000000</td>\n",
       "      <td>0</td>\n",
       "      <td>0</td>\n",
       "      <td>233639</td>\n",
       "      <td>13.0000</td>\n",
       "      <td>S</td>\n",
       "      <td>Adults</td>\n",
       "      <td>1</td>\n",
       "    </tr>\n",
       "    <tr>\n",
       "      <th>783</th>\n",
       "      <td>784</td>\n",
       "      <td>0</td>\n",
       "      <td>3</td>\n",
       "      <td>Johnston, Mr. Andrew G</td>\n",
       "      <td>male</td>\n",
       "      <td>29.699118</td>\n",
       "      <td>1</td>\n",
       "      <td>2</td>\n",
       "      <td>W./C. 6607</td>\n",
       "      <td>23.4500</td>\n",
       "      <td>S</td>\n",
       "      <td>Adults</td>\n",
       "      <td>2</td>\n",
       "    </tr>\n",
       "    <tr>\n",
       "      <th>59</th>\n",
       "      <td>60</td>\n",
       "      <td>0</td>\n",
       "      <td>3</td>\n",
       "      <td>Goodwin, Master. William Frederick</td>\n",
       "      <td>male</td>\n",
       "      <td>11.000000</td>\n",
       "      <td>5</td>\n",
       "      <td>2</td>\n",
       "      <td>CA 2144</td>\n",
       "      <td>46.9000</td>\n",
       "      <td>S</td>\n",
       "      <td>Children</td>\n",
       "      <td>3</td>\n",
       "    </tr>\n",
       "    <tr>\n",
       "      <th>55</th>\n",
       "      <td>56</td>\n",
       "      <td>1</td>\n",
       "      <td>1</td>\n",
       "      <td>Woolner, Mr. Hugh</td>\n",
       "      <td>male</td>\n",
       "      <td>29.699118</td>\n",
       "      <td>0</td>\n",
       "      <td>0</td>\n",
       "      <td>19947</td>\n",
       "      <td>35.5000</td>\n",
       "      <td>S</td>\n",
       "      <td>Adults</td>\n",
       "      <td>3</td>\n",
       "    </tr>\n",
       "    <tr>\n",
       "      <th>540</th>\n",
       "      <td>541</td>\n",
       "      <td>1</td>\n",
       "      <td>1</td>\n",
       "      <td>Crosby, Miss. Harriet R</td>\n",
       "      <td>female</td>\n",
       "      <td>36.000000</td>\n",
       "      <td>0</td>\n",
       "      <td>2</td>\n",
       "      <td>WE/P 5735</td>\n",
       "      <td>71.0000</td>\n",
       "      <td>S</td>\n",
       "      <td>Adults</td>\n",
       "      <td>3</td>\n",
       "    </tr>\n",
       "    <tr>\n",
       "      <th>822</th>\n",
       "      <td>823</td>\n",
       "      <td>0</td>\n",
       "      <td>1</td>\n",
       "      <td>Reuchlin, Jonkheer. John George</td>\n",
       "      <td>male</td>\n",
       "      <td>38.000000</td>\n",
       "      <td>0</td>\n",
       "      <td>0</td>\n",
       "      <td>19972</td>\n",
       "      <td>0.0000</td>\n",
       "      <td>S</td>\n",
       "      <td>Adults</td>\n",
       "      <td>0</td>\n",
       "    </tr>\n",
       "    <tr>\n",
       "      <th>875</th>\n",
       "      <td>876</td>\n",
       "      <td>1</td>\n",
       "      <td>3</td>\n",
       "      <td>Najib, Miss. Adele Kiamie \"Jane\"</td>\n",
       "      <td>female</td>\n",
       "      <td>15.000000</td>\n",
       "      <td>0</td>\n",
       "      <td>0</td>\n",
       "      <td>2667</td>\n",
       "      <td>7.2250</td>\n",
       "      <td>C</td>\n",
       "      <td>Teens</td>\n",
       "      <td>0</td>\n",
       "    </tr>\n",
       "    <tr>\n",
       "      <th>214</th>\n",
       "      <td>215</td>\n",
       "      <td>0</td>\n",
       "      <td>3</td>\n",
       "      <td>Kiernan, Mr. Philip</td>\n",
       "      <td>male</td>\n",
       "      <td>29.699118</td>\n",
       "      <td>1</td>\n",
       "      <td>0</td>\n",
       "      <td>367229</td>\n",
       "      <td>7.7500</td>\n",
       "      <td>Q</td>\n",
       "      <td>Adults</td>\n",
       "      <td>0</td>\n",
       "    </tr>\n",
       "    <tr>\n",
       "      <th>64</th>\n",
       "      <td>65</td>\n",
       "      <td>0</td>\n",
       "      <td>1</td>\n",
       "      <td>Stewart, Mr. Albert A</td>\n",
       "      <td>male</td>\n",
       "      <td>29.699118</td>\n",
       "      <td>0</td>\n",
       "      <td>0</td>\n",
       "      <td>PC 17605</td>\n",
       "      <td>27.7208</td>\n",
       "      <td>C</td>\n",
       "      <td>Adults</td>\n",
       "      <td>2</td>\n",
       "    </tr>\n",
       "    <tr>\n",
       "      <th>722</th>\n",
       "      <td>723</td>\n",
       "      <td>0</td>\n",
       "      <td>2</td>\n",
       "      <td>Gillespie, Mr. William Henry</td>\n",
       "      <td>male</td>\n",
       "      <td>34.000000</td>\n",
       "      <td>0</td>\n",
       "      <td>0</td>\n",
       "      <td>12233</td>\n",
       "      <td>13.0000</td>\n",
       "      <td>S</td>\n",
       "      <td>Adults</td>\n",
       "      <td>1</td>\n",
       "    </tr>\n",
       "    <tr>\n",
       "      <th>145</th>\n",
       "      <td>146</td>\n",
       "      <td>0</td>\n",
       "      <td>2</td>\n",
       "      <td>Nicholls, Mr. Joseph Charles</td>\n",
       "      <td>male</td>\n",
       "      <td>19.000000</td>\n",
       "      <td>1</td>\n",
       "      <td>1</td>\n",
       "      <td>C.A. 33112</td>\n",
       "      <td>36.7500</td>\n",
       "      <td>S</td>\n",
       "      <td>Adults</td>\n",
       "      <td>3</td>\n",
       "    </tr>\n",
       "  </tbody>\n",
       "</table>\n",
       "</div>"
      ],
      "text/plain": [
       "     PassengerId  Survived  Pclass                                    Name  \\\n",
       "439          440         0       2  Kvillner, Mr. Johan Henrik Johannesson   \n",
       "883          884         0       2           Banfield, Mr. Frederick James   \n",
       "502          503         0       3          O'Sullivan, Miss. Bridget Mary   \n",
       "753          754         0       3                      Jonkoff, Mr. Lalio   \n",
       "734          735         0       2            Troupiansky, Mr. Moses Aaron   \n",
       "783          784         0       3                  Johnston, Mr. Andrew G   \n",
       "59            60         0       3      Goodwin, Master. William Frederick   \n",
       "55            56         1       1                       Woolner, Mr. Hugh   \n",
       "540          541         1       1                 Crosby, Miss. Harriet R   \n",
       "822          823         0       1         Reuchlin, Jonkheer. John George   \n",
       "875          876         1       3        Najib, Miss. Adele Kiamie \"Jane\"   \n",
       "214          215         0       3                     Kiernan, Mr. Philip   \n",
       "64            65         0       1                   Stewart, Mr. Albert A   \n",
       "722          723         0       2            Gillespie, Mr. William Henry   \n",
       "145          146         0       2            Nicholls, Mr. Joseph Charles   \n",
       "\n",
       "        Sex        Age  SibSp  Parch            Ticket     Fare Embarked  \\\n",
       "439    male  31.000000      0      0        C.A. 18723  10.5000        S   \n",
       "883    male  28.000000      0      0  C.A./SOTON 34068  10.5000        S   \n",
       "502  female  29.699118      0      0            330909   7.6292        Q   \n",
       "753    male  23.000000      0      0            349204   7.8958        S   \n",
       "734    male  23.000000      0      0            233639  13.0000        S   \n",
       "783    male  29.699118      1      2        W./C. 6607  23.4500        S   \n",
       "59     male  11.000000      5      2           CA 2144  46.9000        S   \n",
       "55     male  29.699118      0      0             19947  35.5000        S   \n",
       "540  female  36.000000      0      2         WE/P 5735  71.0000        S   \n",
       "822    male  38.000000      0      0             19972   0.0000        S   \n",
       "875  female  15.000000      0      0              2667   7.2250        C   \n",
       "214    male  29.699118      1      0            367229   7.7500        Q   \n",
       "64     male  29.699118      0      0          PC 17605  27.7208        C   \n",
       "722    male  34.000000      0      0             12233  13.0000        S   \n",
       "145    male  19.000000      1      1        C.A. 33112  36.7500        S   \n",
       "\n",
       "      Age_cat Fare_cat  \n",
       "439    Adults        1  \n",
       "883    Adults        1  \n",
       "502    Adults        0  \n",
       "753    Adults        0  \n",
       "734    Adults        1  \n",
       "783    Adults        2  \n",
       "59   Children        3  \n",
       "55     Adults        3  \n",
       "540    Adults        3  \n",
       "822    Adults        0  \n",
       "875     Teens        0  \n",
       "214    Adults        0  \n",
       "64     Adults        2  \n",
       "722    Adults        1  \n",
       "145    Adults        3  "
      ]
     },
     "execution_count": 19,
     "metadata": {},
     "output_type": "execute_result"
    }
   ],
   "source": [
    "df.sample(15)"
   ]
  },
  {
   "cell_type": "markdown",
   "id": "f6018216",
   "metadata": {
    "papermill": {
     "duration": 0.022923,
     "end_time": "2023-09-28T18:04:02.557953",
     "exception": false,
     "start_time": "2023-09-28T18:04:02.535030",
     "status": "completed"
    },
    "tags": []
   },
   "source": [
    "# Exploratory Data Analysis"
   ]
  },
  {
   "cell_type": "code",
   "execution_count": 20,
   "id": "a19a36a8",
   "metadata": {
    "execution": {
     "iopub.execute_input": "2023-09-28T18:04:02.606096Z",
     "iopub.status.busy": "2023-09-28T18:04:02.605721Z",
     "iopub.status.idle": "2023-09-28T18:04:02.610568Z",
     "shell.execute_reply": "2023-09-28T18:04:02.609526Z"
    },
    "papermill": {
     "duration": 0.031877,
     "end_time": "2023-09-28T18:04:02.612968",
     "exception": false,
     "start_time": "2023-09-28T18:04:02.581091",
     "status": "completed"
    },
    "tags": []
   },
   "outputs": [],
   "source": [
    "import matplotlib.pyplot as plt"
   ]
  },
  {
   "cell_type": "code",
   "execution_count": 21,
   "id": "2fa59464",
   "metadata": {
    "execution": {
     "iopub.execute_input": "2023-09-28T18:04:02.660517Z",
     "iopub.status.busy": "2023-09-28T18:04:02.660117Z",
     "iopub.status.idle": "2023-09-28T18:04:02.833423Z",
     "shell.execute_reply": "2023-09-28T18:04:02.831989Z"
    },
    "papermill": {
     "duration": 0.200007,
     "end_time": "2023-09-28T18:04:02.835839",
     "exception": false,
     "start_time": "2023-09-28T18:04:02.635832",
     "status": "completed"
    },
    "tags": []
   },
   "outputs": [
    {
     "data": {
      "image/png": "[encoded data removed]",
      "text/plain": [
       "<Figure size 640x480 with 1 Axes>"
      ]
     },
     "metadata": {},
     "output_type": "display_data"
    }
   ],
   "source": [
    "Survived_counts = df['Survived'].value_counts()\n",
    "\n",
    "plt.pie(Survived_counts, labels=['No', 'Yes'], autopct='%1.1f%%', startangle=90, colors=['red', 'skyblue'], explode = (0.1, 0))\n",
    "\n",
    "\n",
    "plt.axis('equal')  \n",
    "plt.show()"
   ]
  },
  {
   "cell_type": "code",
   "execution_count": 22,
   "id": "bcde84cc",
   "metadata": {
    "execution": {
     "iopub.execute_input": "2023-09-28T18:04:02.909607Z",
     "iopub.status.busy": "2023-09-28T18:04:02.908915Z",
     "iopub.status.idle": "2023-09-28T18:04:04.863651Z",
     "shell.execute_reply": "2023-09-28T18:04:04.862572Z"
    },
    "papermill": {
     "duration": 1.982538,
     "end_time": "2023-09-28T18:04:04.866113",
     "exception": false,
     "start_time": "2023-09-28T18:04:02.883575",
     "status": "completed"
    },
    "tags": []
   },
   "outputs": [
    {
     "data": {
      "text/plain": [
       "<Axes: xlabel='Age_cat', ylabel='Survived'>"
      ]
     },
     "execution_count": 22,
     "metadata": {},
     "output_type": "execute_result"
    },
    {
     "data": {
      "image/png": "[encoded data removed]",
      "text/plain": [
       "<Figure size 1400x600 with 1 Axes>"
      ]
     },
     "metadata": {},
     "output_type": "display_data"
    }
   ],
   "source": [
    "import seaborn as sns\n",
    "plt.figure(figsize=(14,6))\n",
    "sns.barplot(x=df['Age_cat'],y=df['Survived'])"
   ]
  },
  {
   "cell_type": "code",
   "execution_count": 23,
   "id": "e2844f64",
   "metadata": {
    "execution": {
     "iopub.execute_input": "2023-09-28T18:04:04.915790Z",
     "iopub.status.busy": "2023-09-28T18:04:04.915139Z",
     "iopub.status.idle": "2023-09-28T18:04:05.245377Z",
     "shell.execute_reply": "2023-09-28T18:04:05.244228Z"
    },
    "papermill": {
     "duration": 0.357838,
     "end_time": "2023-09-28T18:04:05.247847",
     "exception": false,
     "start_time": "2023-09-28T18:04:04.890009",
     "status": "completed"
    },
    "tags": []
   },
   "outputs": [
    {
     "data": {
      "text/plain": [
       "<Axes: xlabel='Sex', ylabel='Survived'>"
      ]
     },
     "execution_count": 23,
     "metadata": {},
     "output_type": "execute_result"
    },
    {
     "data": {
      "image/png": "[encoded data removed]",
      "text/plain": [
       "<Figure size 640x480 with 1 Axes>"
      ]
     },
     "metadata": {},
     "output_type": "display_data"
    }
   ],
   "source": [
    "sns.barplot(x=df['Sex'],y=df['Survived'])"
   ]
  },
  {
   "cell_type": "code",
   "execution_count": 24,
   "id": "ef1cd6ce",
   "metadata": {
    "execution": {
     "iopub.execute_input": "2023-09-28T18:04:05.298465Z",
     "iopub.status.busy": "2023-09-28T18:04:05.298080Z",
     "iopub.status.idle": "2023-09-28T18:04:05.667739Z",
     "shell.execute_reply": "2023-09-28T18:04:05.666590Z"
    },
    "papermill": {
     "duration": 0.398411,
     "end_time": "2023-09-28T18:04:05.670591",
     "exception": false,
     "start_time": "2023-09-28T18:04:05.272180",
     "status": "completed"
    },
    "tags": []
   },
   "outputs": [
    {
     "data": {
      "text/plain": [
       "<Axes: xlabel='Pclass', ylabel='Survived'>"
      ]
     },
     "execution_count": 24,
     "metadata": {},
     "output_type": "execute_result"
    },
    {
     "data": {
      "image/png": "[encoded data removed]",
      "text/plain": [
       "<Figure size 640x480 with 1 Axes>"
      ]
     },
     "metadata": {},
     "output_type": "display_data"
    }
   ],
   "source": [
    "sns.barplot(x=df['Pclass'],y=df['Survived'])"
   ]
  },
  {
   "cell_type": "code",
   "execution_count": 25,
   "id": "210e69b4",
   "metadata": {
    "execution": {
     "iopub.execute_input": "2023-09-28T18:04:05.723073Z",
     "iopub.status.busy": "2023-09-28T18:04:05.722695Z",
     "iopub.status.idle": "2023-09-28T18:04:06.273185Z",
     "shell.execute_reply": "2023-09-28T18:04:06.272139Z"
    },
    "papermill": {
     "duration": 0.579614,
     "end_time": "2023-09-28T18:04:06.276062",
     "exception": false,
     "start_time": "2023-09-28T18:04:05.696448",
     "status": "completed"
    },
    "tags": []
   },
   "outputs": [
    {
     "data": {
      "text/plain": [
       "<Axes: xlabel='SibSp', ylabel='Survived'>"
      ]
     },
     "execution_count": 25,
     "metadata": {},
     "output_type": "execute_result"
    },
    {
     "data": {
      "image/png": "[encoded data removed]",
      "text/plain": [
       "<Figure size 640x480 with 1 Axes>"
      ]
     },
     "metadata": {},
     "output_type": "display_data"
    }
   ],
   "source": [
    "sns.barplot(x=df['SibSp'],y=df['Survived'])"
   ]
  },
  {
   "cell_type": "code",
   "execution_count": 26,
   "id": "3ea20e25",
   "metadata": {
    "execution": {
     "iopub.execute_input": "2023-09-28T18:04:06.329375Z",
     "iopub.status.busy": "2023-09-28T18:04:06.328904Z",
     "iopub.status.idle": "2023-09-28T18:04:06.856787Z",
     "shell.execute_reply": "2023-09-28T18:04:06.855695Z"
    },
    "papermill": {
     "duration": 0.55779,
     "end_time": "2023-09-28T18:04:06.859683",
     "exception": false,
     "start_time": "2023-09-28T18:04:06.301893",
     "status": "completed"
    },
    "tags": []
   },
   "outputs": [
    {
     "data": {
      "text/plain": [
       "<Axes: xlabel='Fare_cat', ylabel='Survived'>"
      ]
     },
     "execution_count": 26,
     "metadata": {},
     "output_type": "execute_result"
    },
    {
     "data": {
      "image/png": "[encoded data removed]",
      "text/plain": [
       "<Figure size 640x480 with 1 Axes>"
      ]
     },
     "metadata": {},
     "output_type": "display_data"
    }
   ],
   "source": [
    "sns.barplot(x=df['Fare_cat'],y=df['Survived'])"
   ]
  },
  {
   "cell_type": "code",
   "execution_count": 27,
   "id": "332d7a59",
   "metadata": {
    "execution": {
     "iopub.execute_input": "2023-09-28T18:04:06.918165Z",
     "iopub.status.busy": "2023-09-28T18:04:06.917341Z",
     "iopub.status.idle": "2023-09-28T18:04:07.468021Z",
     "shell.execute_reply": "2023-09-28T18:04:07.466894Z"
    },
    "papermill": {
     "duration": 0.581105,
     "end_time": "2023-09-28T18:04:07.470802",
     "exception": false,
     "start_time": "2023-09-28T18:04:06.889697",
     "status": "completed"
    },
    "tags": []
   },
   "outputs": [
    {
     "data": {
      "text/plain": [
       "<Axes: xlabel='Parch', ylabel='Survived'>"
      ]
     },
     "execution_count": 27,
     "metadata": {},
     "output_type": "execute_result"
    },
    {
     "data": {
      "image/png": "[encoded data removed]",
      "text/plain": [
       "<Figure size 640x480 with 1 Axes>"
      ]
     },
     "metadata": {},
     "output_type": "display_data"
    }
   ],
   "source": [
    "sns.barplot(x=df['Parch'],y=df['Survived'])"
   ]
  },
  {
   "cell_type": "code",
   "execution_count": 28,
   "id": "773eca98",
   "metadata": {
    "execution": {
     "iopub.execute_input": "2023-09-28T18:04:07.529930Z",
     "iopub.status.busy": "2023-09-28T18:04:07.529524Z",
     "iopub.status.idle": "2023-09-28T18:04:07.840061Z",
     "shell.execute_reply": "2023-09-28T18:04:07.838855Z"
    },
    "papermill": {
     "duration": 0.344928,
     "end_time": "2023-09-28T18:04:07.842705",
     "exception": false,
     "start_time": "2023-09-28T18:04:07.497777",
     "status": "completed"
    },
    "tags": []
   },
   "outputs": [
    {
     "data": {
      "text/plain": [
       "<Axes: xlabel='Embarked', ylabel='Survived'>"
      ]
     },
     "execution_count": 28,
     "metadata": {},
     "output_type": "execute_result"
    },
    {
     "data": {
      "image/png": "[encoded data removed]",
      "text/plain": [
       "<Figure size 640x480 with 1 Axes>"
      ]
     },
     "metadata": {},
     "output_type": "display_data"
    }
   ],
   "source": [
    "sns.barplot(x=df['Embarked'],y=df['Survived'])"
   ]
  },
  {
   "cell_type": "code",
   "execution_count": 29,
   "id": "780eb080",
   "metadata": {
    "execution": {
     "iopub.execute_input": "2023-09-28T18:04:07.898801Z",
     "iopub.status.busy": "2023-09-28T18:04:07.898379Z",
     "iopub.status.idle": "2023-09-28T18:04:20.116100Z",
     "shell.execute_reply": "2023-09-28T18:04:20.115170Z"
    },
    "papermill": {
     "duration": 12.248326,
     "end_time": "2023-09-28T18:04:20.118306",
     "exception": false,
     "start_time": "2023-09-28T18:04:07.869980",
     "status": "completed"
    },
    "tags": []
   },
   "outputs": [
    {
     "data": {
      "text/plain": [
       "<Axes: xlabel='Name', ylabel='Survived'>"
      ]
     },
     "execution_count": 29,
     "metadata": {},
     "output_type": "execute_result"
    },
    {
     "data": {
      "image/png": "[encoded data removed]",
      "text/plain": [
       "<Figure size 640x480 with 1 Axes>"
      ]
     },
     "metadata": {},
     "output_type": "display_data"
    }
   ],
   "source": [
    "sns.barplot(x=df['Name'],y=df['Survived'])"
   ]
  },
  {
   "cell_type": "markdown",
   "id": "8a29b103",
   "metadata": {
    "papermill": {
     "duration": 0.026889,
     "end_time": "2023-09-28T18:04:20.172605",
     "exception": false,
     "start_time": "2023-09-28T18:04:20.145716",
     "status": "completed"
    },
    "tags": []
   },
   "source": [
    "# Encoding"
   ]
  },
  {
   "cell_type": "code",
   "execution_count": 30,
   "id": "d2c2de0c",
   "metadata": {
    "execution": {
     "iopub.execute_input": "2023-09-28T18:04:20.229169Z",
     "iopub.status.busy": "2023-09-28T18:04:20.228453Z",
     "iopub.status.idle": "2023-09-28T18:04:20.246168Z",
     "shell.execute_reply": "2023-09-28T18:04:20.245350Z"
    },
    "papermill": {
     "duration": 0.048486,
     "end_time": "2023-09-28T18:04:20.248296",
     "exception": false,
     "start_time": "2023-09-28T18:04:20.199810",
     "status": "completed"
    },
    "tags": []
   },
   "outputs": [
    {
     "data": {
      "text/html": [
       "<div>\n",
       "<style scoped>\n",
       "    .dataframe tbody tr th:only-of-type {\n",
       "        vertical-align: middle;\n",
       "    }\n",
       "\n",
       "    .dataframe tbody tr th {\n",
       "        vertical-align: top;\n",
       "    }\n",
       "\n",
       "    .dataframe thead th {\n",
       "        text-align: right;\n",
       "    }\n",
       "</style>\n",
       "<table border=\"1\" class=\"dataframe\">\n",
       "  <thead>\n",
       "    <tr style=\"text-align: right;\">\n",
       "      <th></th>\n",
       "      <th>Name</th>\n",
       "      <th>Sex</th>\n",
       "      <th>Ticket</th>\n",
       "      <th>Embarked</th>\n",
       "      <th>Age_cat</th>\n",
       "      <th>Fare_cat</th>\n",
       "    </tr>\n",
       "  </thead>\n",
       "  <tbody>\n",
       "    <tr>\n",
       "      <th>0</th>\n",
       "      <td>Braund, Mr. Owen Harris</td>\n",
       "      <td>male</td>\n",
       "      <td>A/5 21171</td>\n",
       "      <td>S</td>\n",
       "      <td>Adults</td>\n",
       "      <td>0</td>\n",
       "    </tr>\n",
       "    <tr>\n",
       "      <th>1</th>\n",
       "      <td>Cumings, Mrs. John Bradley (Florence Briggs Th...</td>\n",
       "      <td>female</td>\n",
       "      <td>PC 17599</td>\n",
       "      <td>C</td>\n",
       "      <td>Adults</td>\n",
       "      <td>3</td>\n",
       "    </tr>\n",
       "    <tr>\n",
       "      <th>2</th>\n",
       "      <td>Heikkinen, Miss. Laina</td>\n",
       "      <td>female</td>\n",
       "      <td>STON/O2. 3101282</td>\n",
       "      <td>S</td>\n",
       "      <td>Adults</td>\n",
       "      <td>1</td>\n",
       "    </tr>\n",
       "    <tr>\n",
       "      <th>3</th>\n",
       "      <td>Futrelle, Mrs. Jacques Heath (Lily May Peel)</td>\n",
       "      <td>female</td>\n",
       "      <td>113803</td>\n",
       "      <td>S</td>\n",
       "      <td>Adults</td>\n",
       "      <td>3</td>\n",
       "    </tr>\n",
       "    <tr>\n",
       "      <th>4</th>\n",
       "      <td>Allen, Mr. William Henry</td>\n",
       "      <td>male</td>\n",
       "      <td>373450</td>\n",
       "      <td>S</td>\n",
       "      <td>Adults</td>\n",
       "      <td>1</td>\n",
       "    </tr>\n",
       "    <tr>\n",
       "      <th>...</th>\n",
       "      <td>...</td>\n",
       "      <td>...</td>\n",
       "      <td>...</td>\n",
       "      <td>...</td>\n",
       "      <td>...</td>\n",
       "      <td>...</td>\n",
       "    </tr>\n",
       "    <tr>\n",
       "      <th>886</th>\n",
       "      <td>Montvila, Rev. Juozas</td>\n",
       "      <td>male</td>\n",
       "      <td>211536</td>\n",
       "      <td>S</td>\n",
       "      <td>Adults</td>\n",
       "      <td>1</td>\n",
       "    </tr>\n",
       "    <tr>\n",
       "      <th>887</th>\n",
       "      <td>Graham, Miss. Margaret Edith</td>\n",
       "      <td>female</td>\n",
       "      <td>112053</td>\n",
       "      <td>S</td>\n",
       "      <td>Adults</td>\n",
       "      <td>2</td>\n",
       "    </tr>\n",
       "    <tr>\n",
       "      <th>888</th>\n",
       "      <td>Johnston, Miss. Catherine Helen \"Carrie\"</td>\n",
       "      <td>female</td>\n",
       "      <td>W./C. 6607</td>\n",
       "      <td>S</td>\n",
       "      <td>Adults</td>\n",
       "      <td>2</td>\n",
       "    </tr>\n",
       "    <tr>\n",
       "      <th>889</th>\n",
       "      <td>Behr, Mr. Karl Howell</td>\n",
       "      <td>male</td>\n",
       "      <td>111369</td>\n",
       "      <td>C</td>\n",
       "      <td>Adults</td>\n",
       "      <td>2</td>\n",
       "    </tr>\n",
       "    <tr>\n",
       "      <th>890</th>\n",
       "      <td>Dooley, Mr. Patrick</td>\n",
       "      <td>male</td>\n",
       "      <td>370376</td>\n",
       "      <td>Q</td>\n",
       "      <td>Adults</td>\n",
       "      <td>0</td>\n",
       "    </tr>\n",
       "  </tbody>\n",
       "</table>\n",
       "<p>891 rows × 6 columns</p>\n",
       "</div>"
      ],
      "text/plain": [
       "                                                  Name     Sex  \\\n",
       "0                              Braund, Mr. Owen Harris    male   \n",
       "1    Cumings, Mrs. John Bradley (Florence Briggs Th...  female   \n",
       "2                               Heikkinen, Miss. Laina  female   \n",
       "3         Futrelle, Mrs. Jacques Heath (Lily May Peel)  female   \n",
       "4                             Allen, Mr. William Henry    male   \n",
       "..                                                 ...     ...   \n",
       "886                              Montvila, Rev. Juozas    male   \n",
       "887                       Graham, Miss. Margaret Edith  female   \n",
       "888           Johnston, Miss. Catherine Helen \"Carrie\"  female   \n",
       "889                              Behr, Mr. Karl Howell    male   \n",
       "890                                Dooley, Mr. Patrick    male   \n",
       "\n",
       "               Ticket Embarked Age_cat Fare_cat  \n",
       "0           A/5 21171        S  Adults        0  \n",
       "1            PC 17599        C  Adults        3  \n",
       "2    STON/O2. 3101282        S  Adults        1  \n",
       "3              113803        S  Adults        3  \n",
       "4              373450        S  Adults        1  \n",
       "..                ...      ...     ...      ...  \n",
       "886            211536        S  Adults        1  \n",
       "887            112053        S  Adults        2  \n",
       "888        W./C. 6607        S  Adults        2  \n",
       "889            111369        C  Adults        2  \n",
       "890            370376        Q  Adults        0  \n",
       "\n",
       "[891 rows x 6 columns]"
      ]
     },
     "execution_count": 30,
     "metadata": {},
     "output_type": "execute_result"
    }
   ],
   "source": [
    "df.select_dtypes(include=['O', 'category'])"
   ]
  },
  {
   "cell_type": "code",
   "execution_count": 31,
   "id": "68142c60",
   "metadata": {
    "execution": {
     "iopub.execute_input": "2023-09-28T18:04:20.306030Z",
     "iopub.status.busy": "2023-09-28T18:04:20.305088Z",
     "iopub.status.idle": "2023-09-28T18:04:20.465474Z",
     "shell.execute_reply": "2023-09-28T18:04:20.464490Z"
    },
    "papermill": {
     "duration": 0.192088,
     "end_time": "2023-09-28T18:04:20.468147",
     "exception": false,
     "start_time": "2023-09-28T18:04:20.276059",
     "status": "completed"
    },
    "tags": []
   },
   "outputs": [],
   "source": [
    "from sklearn.preprocessing import LabelEncoder\n",
    "# Encode categorical features using scikit-learn LabelEncoder\n",
    "encoder = LabelEncoder()\n",
    "df['Sex'] = encoder.fit_transform(df['Sex'])\n",
    "df['Embarked'] = encoder.fit_transform(df['Embarked'])\n",
    "df['Age_cat'] = encoder.fit_transform(df['Age_cat'])\n",
    "df['Fare_cat'] = encoder.fit_transform(df['Fare_cat'])\n",
    "test_df['Sex'] = encoder.fit_transform(test_df['Sex'])\n",
    "test_df['Embarked'] = encoder.fit_transform(test_df['Embarked'])\n",
    "test_df['Age_cat'] = encoder.fit_transform(test_df['Age_cat'])\n",
    "test_df['Fare_cat'] = encoder.fit_transform(test_df['Fare_cat'])"
   ]
  },
  {
   "cell_type": "code",
   "execution_count": 32,
   "id": "5e072b0b",
   "metadata": {
    "execution": {
     "iopub.execute_input": "2023-09-28T18:04:20.526219Z",
     "iopub.status.busy": "2023-09-28T18:04:20.525773Z",
     "iopub.status.idle": "2023-09-28T18:04:20.534917Z",
     "shell.execute_reply": "2023-09-28T18:04:20.533745Z"
    },
    "papermill": {
     "duration": 0.040971,
     "end_time": "2023-09-28T18:04:20.537328",
     "exception": false,
     "start_time": "2023-09-28T18:04:20.496357",
     "status": "completed"
    },
    "tags": []
   },
   "outputs": [
    {
     "data": {
      "text/plain": [
       "Sex\n",
       "1    577\n",
       "0    314\n",
       "Name: count, dtype: int64"
      ]
     },
     "execution_count": 32,
     "metadata": {},
     "output_type": "execute_result"
    }
   ],
   "source": [
    "df['Sex'].value_counts()"
   ]
  },
  {
   "cell_type": "code",
   "execution_count": 33,
   "id": "37fa797c",
   "metadata": {
    "execution": {
     "iopub.execute_input": "2023-09-28T18:04:20.596746Z",
     "iopub.status.busy": "2023-09-28T18:04:20.596198Z",
     "iopub.status.idle": "2023-09-28T18:04:20.605228Z",
     "shell.execute_reply": "2023-09-28T18:04:20.604173Z"
    },
    "papermill": {
     "duration": 0.041282,
     "end_time": "2023-09-28T18:04:20.607657",
     "exception": false,
     "start_time": "2023-09-28T18:04:20.566375",
     "status": "completed"
    },
    "tags": []
   },
   "outputs": [
    {
     "data": {
      "text/plain": [
       "Embarked\n",
       "2    646\n",
       "0    168\n",
       "1     77\n",
       "Name: count, dtype: int64"
      ]
     },
     "execution_count": 33,
     "metadata": {},
     "output_type": "execute_result"
    }
   ],
   "source": [
    "df['Embarked'].value_counts()"
   ]
  },
  {
   "cell_type": "code",
   "execution_count": 34,
   "id": "2dc767ef",
   "metadata": {
    "execution": {
     "iopub.execute_input": "2023-09-28T18:04:20.666426Z",
     "iopub.status.busy": "2023-09-28T18:04:20.666053Z",
     "iopub.status.idle": "2023-09-28T18:04:20.675226Z",
     "shell.execute_reply": "2023-09-28T18:04:20.673984Z"
    },
    "papermill": {
     "duration": 0.041642,
     "end_time": "2023-09-28T18:04:20.677952",
     "exception": false,
     "start_time": "2023-09-28T18:04:20.636310",
     "status": "completed"
    },
    "tags": []
   },
   "outputs": [
    {
     "data": {
      "text/plain": [
       "Age_cat\n",
       "0    602\n",
       "3    142\n",
       "4     70\n",
       "1     69\n",
       "2      8\n",
       "Name: count, dtype: int64"
      ]
     },
     "execution_count": 34,
     "metadata": {},
     "output_type": "execute_result"
    }
   ],
   "source": [
    "df['Age_cat'].value_counts()"
   ]
  },
  {
   "cell_type": "code",
   "execution_count": 35,
   "id": "45f249b0",
   "metadata": {
    "execution": {
     "iopub.execute_input": "2023-09-28T18:04:20.738307Z",
     "iopub.status.busy": "2023-09-28T18:04:20.737909Z",
     "iopub.status.idle": "2023-09-28T18:04:20.747180Z",
     "shell.execute_reply": "2023-09-28T18:04:20.745985Z"
    },
    "papermill": {
     "duration": 0.041935,
     "end_time": "2023-09-28T18:04:20.749467",
     "exception": false,
     "start_time": "2023-09-28T18:04:20.707532",
     "status": "completed"
    },
    "tags": []
   },
   "outputs": [],
   "source": [
    "df['Name']=df.Name.str.extract(' ([A-Za-z]+)\\.', expand=False)\n",
    "test_df['Name']=test_df.Name.str.extract(' ([A-Za-z]+)\\.', expand=False)"
   ]
  },
  {
   "cell_type": "code",
   "execution_count": 36,
   "id": "790c57ea",
   "metadata": {
    "execution": {
     "iopub.execute_input": "2023-09-28T18:04:20.808280Z",
     "iopub.status.busy": "2023-09-28T18:04:20.807910Z",
     "iopub.status.idle": "2023-09-28T18:04:20.815106Z",
     "shell.execute_reply": "2023-09-28T18:04:20.813744Z"
    },
    "papermill": {
     "duration": 0.039291,
     "end_time": "2023-09-28T18:04:20.817309",
     "exception": false,
     "start_time": "2023-09-28T18:04:20.778018",
     "status": "completed"
    },
    "tags": []
   },
   "outputs": [],
   "source": [
    "df['Name'] = encoder.fit_transform(df['Name'])\n",
    "test_df['Name'] = encoder.fit_transform(test_df['Name'])"
   ]
  },
  {
   "cell_type": "code",
   "execution_count": 37,
   "id": "c6aa835c",
   "metadata": {
    "execution": {
     "iopub.execute_input": "2023-09-28T18:04:20.877171Z",
     "iopub.status.busy": "2023-09-28T18:04:20.876091Z",
     "iopub.status.idle": "2023-09-28T18:04:20.883273Z",
     "shell.execute_reply": "2023-09-28T18:04:20.882494Z"
    },
    "papermill": {
     "duration": 0.038605,
     "end_time": "2023-09-28T18:04:20.885366",
     "exception": false,
     "start_time": "2023-09-28T18:04:20.846761",
     "status": "completed"
    },
    "tags": []
   },
   "outputs": [],
   "source": [
    "df.drop(columns=[ 'Ticket'], inplace=True)\n",
    "test_df.drop(columns=[ 'Ticket'], inplace=True)"
   ]
  },
  {
   "cell_type": "code",
   "execution_count": 38,
   "id": "ca105ab8",
   "metadata": {
    "execution": {
     "iopub.execute_input": "2023-09-28T18:04:20.943692Z",
     "iopub.status.busy": "2023-09-28T18:04:20.943151Z",
     "iopub.status.idle": "2023-09-28T18:04:20.949835Z",
     "shell.execute_reply": "2023-09-28T18:04:20.948772Z"
    },
    "papermill": {
     "duration": 0.038284,
     "end_time": "2023-09-28T18:04:20.951931",
     "exception": false,
     "start_time": "2023-09-28T18:04:20.913647",
     "status": "completed"
    },
    "tags": []
   },
   "outputs": [],
   "source": [
    "df.drop(columns=['PassengerId'], inplace=True)"
   ]
  },
  {
   "cell_type": "code",
   "execution_count": 39,
   "id": "3742818a",
   "metadata": {
    "execution": {
     "iopub.execute_input": "2023-09-28T18:04:21.010364Z",
     "iopub.status.busy": "2023-09-28T18:04:21.009940Z",
     "iopub.status.idle": "2023-09-28T18:04:21.016923Z",
     "shell.execute_reply": "2023-09-28T18:04:21.015847Z"
    },
    "papermill": {
     "duration": 0.038742,
     "end_time": "2023-09-28T18:04:21.019169",
     "exception": false,
     "start_time": "2023-09-28T18:04:20.980427",
     "status": "completed"
    },
    "tags": []
   },
   "outputs": [
    {
     "data": {
      "text/plain": [
       "Index([], dtype='object')"
      ]
     },
     "execution_count": 39,
     "metadata": {},
     "output_type": "execute_result"
    }
   ],
   "source": [
    "df.select_dtypes(include=['O', 'category']).columns"
   ]
  },
  {
   "cell_type": "code",
   "execution_count": 40,
   "id": "1d72b124",
   "metadata": {
    "execution": {
     "iopub.execute_input": "2023-09-28T18:04:21.079959Z",
     "iopub.status.busy": "2023-09-28T18:04:21.079462Z",
     "iopub.status.idle": "2023-09-28T18:04:21.101370Z",
     "shell.execute_reply": "2023-09-28T18:04:21.100261Z"
    },
    "papermill": {
     "duration": 0.055024,
     "end_time": "2023-09-28T18:04:21.103683",
     "exception": false,
     "start_time": "2023-09-28T18:04:21.048659",
     "status": "completed"
    },
    "tags": []
   },
   "outputs": [
    {
     "data": {
      "text/html": [
       "<div>\n",
       "<style scoped>\n",
       "    .dataframe tbody tr th:only-of-type {\n",
       "        vertical-align: middle;\n",
       "    }\n",
       "\n",
       "    .dataframe tbody tr th {\n",
       "        vertical-align: top;\n",
       "    }\n",
       "\n",
       "    .dataframe thead th {\n",
       "        text-align: right;\n",
       "    }\n",
       "</style>\n",
       "<table border=\"1\" class=\"dataframe\">\n",
       "  <thead>\n",
       "    <tr style=\"text-align: right;\">\n",
       "      <th></th>\n",
       "      <th>Survived</th>\n",
       "      <th>Pclass</th>\n",
       "      <th>Name</th>\n",
       "      <th>Sex</th>\n",
       "      <th>Age</th>\n",
       "      <th>SibSp</th>\n",
       "      <th>Parch</th>\n",
       "      <th>Fare</th>\n",
       "      <th>Embarked</th>\n",
       "      <th>Age_cat</th>\n",
       "      <th>Fare_cat</th>\n",
       "    </tr>\n",
       "  </thead>\n",
       "  <tbody>\n",
       "    <tr>\n",
       "      <th>0</th>\n",
       "      <td>0</td>\n",
       "      <td>3</td>\n",
       "      <td>12</td>\n",
       "      <td>1</td>\n",
       "      <td>22.000000</td>\n",
       "      <td>1</td>\n",
       "      <td>0</td>\n",
       "      <td>7.2500</td>\n",
       "      <td>2</td>\n",
       "      <td>0</td>\n",
       "      <td>0</td>\n",
       "    </tr>\n",
       "    <tr>\n",
       "      <th>1</th>\n",
       "      <td>1</td>\n",
       "      <td>1</td>\n",
       "      <td>13</td>\n",
       "      <td>0</td>\n",
       "      <td>38.000000</td>\n",
       "      <td>1</td>\n",
       "      <td>0</td>\n",
       "      <td>71.2833</td>\n",
       "      <td>0</td>\n",
       "      <td>0</td>\n",
       "      <td>3</td>\n",
       "    </tr>\n",
       "    <tr>\n",
       "      <th>2</th>\n",
       "      <td>1</td>\n",
       "      <td>3</td>\n",
       "      <td>9</td>\n",
       "      <td>0</td>\n",
       "      <td>26.000000</td>\n",
       "      <td>0</td>\n",
       "      <td>0</td>\n",
       "      <td>7.9250</td>\n",
       "      <td>2</td>\n",
       "      <td>0</td>\n",
       "      <td>1</td>\n",
       "    </tr>\n",
       "    <tr>\n",
       "      <th>3</th>\n",
       "      <td>1</td>\n",
       "      <td>1</td>\n",
       "      <td>13</td>\n",
       "      <td>0</td>\n",
       "      <td>35.000000</td>\n",
       "      <td>1</td>\n",
       "      <td>0</td>\n",
       "      <td>53.1000</td>\n",
       "      <td>2</td>\n",
       "      <td>0</td>\n",
       "      <td>3</td>\n",
       "    </tr>\n",
       "    <tr>\n",
       "      <th>4</th>\n",
       "      <td>0</td>\n",
       "      <td>3</td>\n",
       "      <td>12</td>\n",
       "      <td>1</td>\n",
       "      <td>35.000000</td>\n",
       "      <td>0</td>\n",
       "      <td>0</td>\n",
       "      <td>8.0500</td>\n",
       "      <td>2</td>\n",
       "      <td>0</td>\n",
       "      <td>1</td>\n",
       "    </tr>\n",
       "    <tr>\n",
       "      <th>...</th>\n",
       "      <td>...</td>\n",
       "      <td>...</td>\n",
       "      <td>...</td>\n",
       "      <td>...</td>\n",
       "      <td>...</td>\n",
       "      <td>...</td>\n",
       "      <td>...</td>\n",
       "      <td>...</td>\n",
       "      <td>...</td>\n",
       "      <td>...</td>\n",
       "      <td>...</td>\n",
       "    </tr>\n",
       "    <tr>\n",
       "      <th>886</th>\n",
       "      <td>0</td>\n",
       "      <td>2</td>\n",
       "      <td>15</td>\n",
       "      <td>1</td>\n",
       "      <td>27.000000</td>\n",
       "      <td>0</td>\n",
       "      <td>0</td>\n",
       "      <td>13.0000</td>\n",
       "      <td>2</td>\n",
       "      <td>0</td>\n",
       "      <td>1</td>\n",
       "    </tr>\n",
       "    <tr>\n",
       "      <th>887</th>\n",
       "      <td>1</td>\n",
       "      <td>1</td>\n",
       "      <td>9</td>\n",
       "      <td>0</td>\n",
       "      <td>19.000000</td>\n",
       "      <td>0</td>\n",
       "      <td>0</td>\n",
       "      <td>30.0000</td>\n",
       "      <td>2</td>\n",
       "      <td>0</td>\n",
       "      <td>2</td>\n",
       "    </tr>\n",
       "    <tr>\n",
       "      <th>888</th>\n",
       "      <td>0</td>\n",
       "      <td>3</td>\n",
       "      <td>9</td>\n",
       "      <td>0</td>\n",
       "      <td>29.699118</td>\n",
       "      <td>1</td>\n",
       "      <td>2</td>\n",
       "      <td>23.4500</td>\n",
       "      <td>2</td>\n",
       "      <td>0</td>\n",
       "      <td>2</td>\n",
       "    </tr>\n",
       "    <tr>\n",
       "      <th>889</th>\n",
       "      <td>1</td>\n",
       "      <td>1</td>\n",
       "      <td>12</td>\n",
       "      <td>1</td>\n",
       "      <td>26.000000</td>\n",
       "      <td>0</td>\n",
       "      <td>0</td>\n",
       "      <td>30.0000</td>\n",
       "      <td>0</td>\n",
       "      <td>0</td>\n",
       "      <td>2</td>\n",
       "    </tr>\n",
       "    <tr>\n",
       "      <th>890</th>\n",
       "      <td>0</td>\n",
       "      <td>3</td>\n",
       "      <td>12</td>\n",
       "      <td>1</td>\n",
       "      <td>32.000000</td>\n",
       "      <td>0</td>\n",
       "      <td>0</td>\n",
       "      <td>7.7500</td>\n",
       "      <td>1</td>\n",
       "      <td>0</td>\n",
       "      <td>0</td>\n",
       "    </tr>\n",
       "  </tbody>\n",
       "</table>\n",
       "<p>891 rows × 11 columns</p>\n",
       "</div>"
      ],
      "text/plain": [
       "     Survived  Pclass  Name  Sex        Age  SibSp  Parch     Fare  Embarked  \\\n",
       "0           0       3    12    1  22.000000      1      0   7.2500         2   \n",
       "1           1       1    13    0  38.000000      1      0  71.2833         0   \n",
       "2           1       3     9    0  26.000000      0      0   7.9250         2   \n",
       "3           1       1    13    0  35.000000      1      0  53.1000         2   \n",
       "4           0       3    12    1  35.000000      0      0   8.0500         2   \n",
       "..        ...     ...   ...  ...        ...    ...    ...      ...       ...   \n",
       "886         0       2    15    1  27.000000      0      0  13.0000         2   \n",
       "887         1       1     9    0  19.000000      0      0  30.0000         2   \n",
       "888         0       3     9    0  29.699118      1      2  23.4500         2   \n",
       "889         1       1    12    1  26.000000      0      0  30.0000         0   \n",
       "890         0       3    12    1  32.000000      0      0   7.7500         1   \n",
       "\n",
       "     Age_cat  Fare_cat  \n",
       "0          0         0  \n",
       "1          0         3  \n",
       "2          0         1  \n",
       "3          0         3  \n",
       "4          0         1  \n",
       "..       ...       ...  \n",
       "886        0         1  \n",
       "887        0         2  \n",
       "888        0         2  \n",
       "889        0         2  \n",
       "890        0         0  \n",
       "\n",
       "[891 rows x 11 columns]"
      ]
     },
     "execution_count": 40,
     "metadata": {},
     "output_type": "execute_result"
    }
   ],
   "source": [
    "df"
   ]
  },
  {
   "cell_type": "markdown",
   "id": "514ae176",
   "metadata": {
    "papermill": {
     "duration": 0.028461,
     "end_time": "2023-09-28T18:04:21.160963",
     "exception": false,
     "start_time": "2023-09-28T18:04:21.132502",
     "status": "completed"
    },
    "tags": []
   },
   "source": [
    "# Scalling"
   ]
  },
  {
   "cell_type": "code",
   "execution_count": 41,
   "id": "08b02dff",
   "metadata": {
    "execution": {
     "iopub.execute_input": "2023-09-28T18:04:21.220795Z",
     "iopub.status.busy": "2023-09-28T18:04:21.220369Z",
     "iopub.status.idle": "2023-09-28T18:04:21.244992Z",
     "shell.execute_reply": "2023-09-28T18:04:21.244166Z"
    },
    "papermill": {
     "duration": 0.057399,
     "end_time": "2023-09-28T18:04:21.247241",
     "exception": false,
     "start_time": "2023-09-28T18:04:21.189842",
     "status": "completed"
    },
    "tags": []
   },
   "outputs": [],
   "source": [
    "from sklearn.preprocessing import StandardScaler, MinMaxScaler, RobustScaler\n",
    "\n",
    "# StandardScaler example\n",
    "scaler = StandardScaler()\n",
    "scaled_data = scaler.fit_transform(df[['Age', 'Fare']])\n",
    "scaled_data2 = scaler.fit_transform(test_df[['Age', 'Fare']])\n",
    "# TODO MinMaxScaler\n",
    "min_max_scaler = MinMaxScaler()\n",
    "min_max_scaled_data = min_max_scaler.fit_transform(df[['Age', 'Fare']])\n",
    "\n",
    "# TODO RobustScaler\n",
    "robust_scaler = RobustScaler()\n",
    "robust_scaled_data = robust_scaler.fit_transform(df[['Age', 'Fare']])"
   ]
  },
  {
   "cell_type": "code",
   "execution_count": 42,
   "id": "ee4d13ff",
   "metadata": {
    "execution": {
     "iopub.execute_input": "2023-09-28T18:04:21.307255Z",
     "iopub.status.busy": "2023-09-28T18:04:21.306610Z",
     "iopub.status.idle": "2023-09-28T18:04:21.318342Z",
     "shell.execute_reply": "2023-09-28T18:04:21.317489Z"
    },
    "papermill": {
     "duration": 0.044219,
     "end_time": "2023-09-28T18:04:21.320497",
     "exception": false,
     "start_time": "2023-09-28T18:04:21.276278",
     "status": "completed"
    },
    "tags": []
   },
   "outputs": [
    {
     "data": {
      "text/plain": [
       "array([[-0.5924806 , -0.50244517],\n",
       "       [ 0.63878901,  0.78684529],\n",
       "       [-0.2846632 , -0.48885426],\n",
       "       ...,\n",
       "       [ 0.        , -0.17626324],\n",
       "       [-0.2846632 , -0.04438104],\n",
       "       [ 0.17706291, -0.49237783]])"
      ]
     },
     "metadata": {},
     "output_type": "display_data"
    },
    {
     "data": {
      "text/plain": [
       "array([[0.27117366, 0.01415106],\n",
       "       [0.4722292 , 0.13913574],\n",
       "       [0.32143755, 0.01546857],\n",
       "       ...,\n",
       "       [0.36792055, 0.04577135],\n",
       "       [0.32143755, 0.0585561 ],\n",
       "       [0.39683338, 0.01512699]])"
      ]
     },
     "metadata": {},
     "output_type": "display_data"
    },
    {
     "data": {
      "text/plain": [
       "array([[-0.59223982, -0.3120106 ],\n",
       "       [ 0.63852941,  2.46124229],\n",
       "       [-0.28454751, -0.28277666],\n",
       "       ...,\n",
       "       [ 0.        ,  0.38960398],\n",
       "       [-0.28454751,  0.67328148],\n",
       "       [ 0.17699095, -0.29035583]])"
      ]
     },
     "metadata": {},
     "output_type": "display_data"
    }
   ],
   "source": [
    "display(scaled_data, min_max_scaled_data, robust_scaled_data)"
   ]
  },
  {
   "cell_type": "code",
   "execution_count": 43,
   "id": "f7dc0ece",
   "metadata": {
    "execution": {
     "iopub.execute_input": "2023-09-28T18:04:21.381177Z",
     "iopub.status.busy": "2023-09-28T18:04:21.380530Z",
     "iopub.status.idle": "2023-09-28T18:04:21.394495Z",
     "shell.execute_reply": "2023-09-28T18:04:21.393224Z"
    },
    "papermill": {
     "duration": 0.046981,
     "end_time": "2023-09-28T18:04:21.396752",
     "exception": false,
     "start_time": "2023-09-28T18:04:21.349771",
     "status": "completed"
    },
    "tags": []
   },
   "outputs": [
    {
     "data": {
      "text/html": [
       "<div>\n",
       "<style scoped>\n",
       "    .dataframe tbody tr th:only-of-type {\n",
       "        vertical-align: middle;\n",
       "    }\n",
       "\n",
       "    .dataframe tbody tr th {\n",
       "        vertical-align: top;\n",
       "    }\n",
       "\n",
       "    .dataframe thead th {\n",
       "        text-align: right;\n",
       "    }\n",
       "</style>\n",
       "<table border=\"1\" class=\"dataframe\">\n",
       "  <thead>\n",
       "    <tr style=\"text-align: right;\">\n",
       "      <th></th>\n",
       "      <th>Age</th>\n",
       "      <th>Fare</th>\n",
       "    </tr>\n",
       "  </thead>\n",
       "  <tbody>\n",
       "    <tr>\n",
       "      <th>0</th>\n",
       "      <td>-0.592481</td>\n",
       "      <td>-0.502445</td>\n",
       "    </tr>\n",
       "    <tr>\n",
       "      <th>1</th>\n",
       "      <td>0.638789</td>\n",
       "      <td>0.786845</td>\n",
       "    </tr>\n",
       "    <tr>\n",
       "      <th>2</th>\n",
       "      <td>-0.284663</td>\n",
       "      <td>-0.488854</td>\n",
       "    </tr>\n",
       "    <tr>\n",
       "      <th>3</th>\n",
       "      <td>0.407926</td>\n",
       "      <td>0.420730</td>\n",
       "    </tr>\n",
       "    <tr>\n",
       "      <th>4</th>\n",
       "      <td>0.407926</td>\n",
       "      <td>-0.486337</td>\n",
       "    </tr>\n",
       "    <tr>\n",
       "      <th>...</th>\n",
       "      <td>...</td>\n",
       "      <td>...</td>\n",
       "    </tr>\n",
       "    <tr>\n",
       "      <th>886</th>\n",
       "      <td>-0.207709</td>\n",
       "      <td>-0.386671</td>\n",
       "    </tr>\n",
       "    <tr>\n",
       "      <th>887</th>\n",
       "      <td>-0.823344</td>\n",
       "      <td>-0.044381</td>\n",
       "    </tr>\n",
       "    <tr>\n",
       "      <th>888</th>\n",
       "      <td>0.000000</td>\n",
       "      <td>-0.176263</td>\n",
       "    </tr>\n",
       "    <tr>\n",
       "      <th>889</th>\n",
       "      <td>-0.284663</td>\n",
       "      <td>-0.044381</td>\n",
       "    </tr>\n",
       "    <tr>\n",
       "      <th>890</th>\n",
       "      <td>0.177063</td>\n",
       "      <td>-0.492378</td>\n",
       "    </tr>\n",
       "  </tbody>\n",
       "</table>\n",
       "<p>891 rows × 2 columns</p>\n",
       "</div>"
      ],
      "text/plain": [
       "          Age      Fare\n",
       "0   -0.592481 -0.502445\n",
       "1    0.638789  0.786845\n",
       "2   -0.284663 -0.488854\n",
       "3    0.407926  0.420730\n",
       "4    0.407926 -0.486337\n",
       "..        ...       ...\n",
       "886 -0.207709 -0.386671\n",
       "887 -0.823344 -0.044381\n",
       "888  0.000000 -0.176263\n",
       "889 -0.284663 -0.044381\n",
       "890  0.177063 -0.492378\n",
       "\n",
       "[891 rows x 2 columns]"
      ]
     },
     "execution_count": 43,
     "metadata": {},
     "output_type": "execute_result"
    }
   ],
   "source": [
    "sdf = pd.DataFrame(scaled_data, columns = ['Age', 'Fare'])\n",
    "stdf = pd.DataFrame(scaled_data2, columns = ['Age', 'Fare'])\n",
    "sdf"
   ]
  },
  {
   "cell_type": "code",
   "execution_count": 44,
   "id": "7ba0f2b5",
   "metadata": {
    "execution": {
     "iopub.execute_input": "2023-09-28T18:04:21.458009Z",
     "iopub.status.busy": "2023-09-28T18:04:21.457326Z",
     "iopub.status.idle": "2023-09-28T18:04:21.484229Z",
     "shell.execute_reply": "2023-09-28T18:04:21.483066Z"
    },
    "papermill": {
     "duration": 0.061185,
     "end_time": "2023-09-28T18:04:21.487342",
     "exception": false,
     "start_time": "2023-09-28T18:04:21.426157",
     "status": "completed"
    },
    "tags": []
   },
   "outputs": [
    {
     "data": {
      "text/html": [
       "<div>\n",
       "<style scoped>\n",
       "    .dataframe tbody tr th:only-of-type {\n",
       "        vertical-align: middle;\n",
       "    }\n",
       "\n",
       "    .dataframe tbody tr th {\n",
       "        vertical-align: top;\n",
       "    }\n",
       "\n",
       "    .dataframe thead th {\n",
       "        text-align: right;\n",
       "    }\n",
       "</style>\n",
       "<table border=\"1\" class=\"dataframe\">\n",
       "  <thead>\n",
       "    <tr style=\"text-align: right;\">\n",
       "      <th></th>\n",
       "      <th>Survived</th>\n",
       "      <th>Pclass</th>\n",
       "      <th>Name</th>\n",
       "      <th>Sex</th>\n",
       "      <th>Age</th>\n",
       "      <th>SibSp</th>\n",
       "      <th>Parch</th>\n",
       "      <th>Fare</th>\n",
       "      <th>Embarked</th>\n",
       "      <th>Age_cat</th>\n",
       "      <th>Fare_cat</th>\n",
       "    </tr>\n",
       "  </thead>\n",
       "  <tbody>\n",
       "    <tr>\n",
       "      <th>0</th>\n",
       "      <td>0</td>\n",
       "      <td>3</td>\n",
       "      <td>12</td>\n",
       "      <td>1</td>\n",
       "      <td>-0.592481</td>\n",
       "      <td>1</td>\n",
       "      <td>0</td>\n",
       "      <td>-0.502445</td>\n",
       "      <td>2</td>\n",
       "      <td>0</td>\n",
       "      <td>0</td>\n",
       "    </tr>\n",
       "    <tr>\n",
       "      <th>1</th>\n",
       "      <td>1</td>\n",
       "      <td>1</td>\n",
       "      <td>13</td>\n",
       "      <td>0</td>\n",
       "      <td>0.638789</td>\n",
       "      <td>1</td>\n",
       "      <td>0</td>\n",
       "      <td>0.786845</td>\n",
       "      <td>0</td>\n",
       "      <td>0</td>\n",
       "      <td>3</td>\n",
       "    </tr>\n",
       "    <tr>\n",
       "      <th>2</th>\n",
       "      <td>1</td>\n",
       "      <td>3</td>\n",
       "      <td>9</td>\n",
       "      <td>0</td>\n",
       "      <td>-0.284663</td>\n",
       "      <td>0</td>\n",
       "      <td>0</td>\n",
       "      <td>-0.488854</td>\n",
       "      <td>2</td>\n",
       "      <td>0</td>\n",
       "      <td>1</td>\n",
       "    </tr>\n",
       "    <tr>\n",
       "      <th>3</th>\n",
       "      <td>1</td>\n",
       "      <td>1</td>\n",
       "      <td>13</td>\n",
       "      <td>0</td>\n",
       "      <td>0.407926</td>\n",
       "      <td>1</td>\n",
       "      <td>0</td>\n",
       "      <td>0.420730</td>\n",
       "      <td>2</td>\n",
       "      <td>0</td>\n",
       "      <td>3</td>\n",
       "    </tr>\n",
       "    <tr>\n",
       "      <th>4</th>\n",
       "      <td>0</td>\n",
       "      <td>3</td>\n",
       "      <td>12</td>\n",
       "      <td>1</td>\n",
       "      <td>0.407926</td>\n",
       "      <td>0</td>\n",
       "      <td>0</td>\n",
       "      <td>-0.486337</td>\n",
       "      <td>2</td>\n",
       "      <td>0</td>\n",
       "      <td>1</td>\n",
       "    </tr>\n",
       "    <tr>\n",
       "      <th>...</th>\n",
       "      <td>...</td>\n",
       "      <td>...</td>\n",
       "      <td>...</td>\n",
       "      <td>...</td>\n",
       "      <td>...</td>\n",
       "      <td>...</td>\n",
       "      <td>...</td>\n",
       "      <td>...</td>\n",
       "      <td>...</td>\n",
       "      <td>...</td>\n",
       "      <td>...</td>\n",
       "    </tr>\n",
       "    <tr>\n",
       "      <th>886</th>\n",
       "      <td>0</td>\n",
       "      <td>2</td>\n",
       "      <td>15</td>\n",
       "      <td>1</td>\n",
       "      <td>-0.207709</td>\n",
       "      <td>0</td>\n",
       "      <td>0</td>\n",
       "      <td>-0.386671</td>\n",
       "      <td>2</td>\n",
       "      <td>0</td>\n",
       "      <td>1</td>\n",
       "    </tr>\n",
       "    <tr>\n",
       "      <th>887</th>\n",
       "      <td>1</td>\n",
       "      <td>1</td>\n",
       "      <td>9</td>\n",
       "      <td>0</td>\n",
       "      <td>-0.823344</td>\n",
       "      <td>0</td>\n",
       "      <td>0</td>\n",
       "      <td>-0.044381</td>\n",
       "      <td>2</td>\n",
       "      <td>0</td>\n",
       "      <td>2</td>\n",
       "    </tr>\n",
       "    <tr>\n",
       "      <th>888</th>\n",
       "      <td>0</td>\n",
       "      <td>3</td>\n",
       "      <td>9</td>\n",
       "      <td>0</td>\n",
       "      <td>0.000000</td>\n",
       "      <td>1</td>\n",
       "      <td>2</td>\n",
       "      <td>-0.176263</td>\n",
       "      <td>2</td>\n",
       "      <td>0</td>\n",
       "      <td>2</td>\n",
       "    </tr>\n",
       "    <tr>\n",
       "      <th>889</th>\n",
       "      <td>1</td>\n",
       "      <td>1</td>\n",
       "      <td>12</td>\n",
       "      <td>1</td>\n",
       "      <td>-0.284663</td>\n",
       "      <td>0</td>\n",
       "      <td>0</td>\n",
       "      <td>-0.044381</td>\n",
       "      <td>0</td>\n",
       "      <td>0</td>\n",
       "      <td>2</td>\n",
       "    </tr>\n",
       "    <tr>\n",
       "      <th>890</th>\n",
       "      <td>0</td>\n",
       "      <td>3</td>\n",
       "      <td>12</td>\n",
       "      <td>1</td>\n",
       "      <td>0.177063</td>\n",
       "      <td>0</td>\n",
       "      <td>0</td>\n",
       "      <td>-0.492378</td>\n",
       "      <td>1</td>\n",
       "      <td>0</td>\n",
       "      <td>0</td>\n",
       "    </tr>\n",
       "  </tbody>\n",
       "</table>\n",
       "<p>891 rows × 11 columns</p>\n",
       "</div>"
      ],
      "text/plain": [
       "     Survived  Pclass  Name  Sex       Age  SibSp  Parch      Fare  Embarked  \\\n",
       "0           0       3    12    1 -0.592481      1      0 -0.502445         2   \n",
       "1           1       1    13    0  0.638789      1      0  0.786845         0   \n",
       "2           1       3     9    0 -0.284663      0      0 -0.488854         2   \n",
       "3           1       1    13    0  0.407926      1      0  0.420730         2   \n",
       "4           0       3    12    1  0.407926      0      0 -0.486337         2   \n",
       "..        ...     ...   ...  ...       ...    ...    ...       ...       ...   \n",
       "886         0       2    15    1 -0.207709      0      0 -0.386671         2   \n",
       "887         1       1     9    0 -0.823344      0      0 -0.044381         2   \n",
       "888         0       3     9    0  0.000000      1      2 -0.176263         2   \n",
       "889         1       1    12    1 -0.284663      0      0 -0.044381         0   \n",
       "890         0       3    12    1  0.177063      0      0 -0.492378         1   \n",
       "\n",
       "     Age_cat  Fare_cat  \n",
       "0          0         0  \n",
       "1          0         3  \n",
       "2          0         1  \n",
       "3          0         3  \n",
       "4          0         1  \n",
       "..       ...       ...  \n",
       "886        0         1  \n",
       "887        0         2  \n",
       "888        0         2  \n",
       "889        0         2  \n",
       "890        0         0  \n",
       "\n",
       "[891 rows x 11 columns]"
      ]
     },
     "execution_count": 44,
     "metadata": {},
     "output_type": "execute_result"
    }
   ],
   "source": [
    "bf = df\n",
    "bf.loc[:, ['Age', 'Fare']] = sdf[['Age', 'Fare']]\n",
    "bft = test_df\n",
    "bft.loc[:, ['Age', 'Fare']] = stdf[['Age', 'Fare']]\n",
    "bf"
   ]
  },
  {
   "cell_type": "markdown",
   "id": "0b2cf0bc",
   "metadata": {
    "papermill": {
     "duration": 0.029663,
     "end_time": "2023-09-28T18:04:21.547126",
     "exception": false,
     "start_time": "2023-09-28T18:04:21.517463",
     "status": "completed"
    },
    "tags": []
   },
   "source": [
    "# Model Building"
   ]
  },
  {
   "cell_type": "code",
   "execution_count": 45,
   "id": "3fcaa475",
   "metadata": {
    "execution": {
     "iopub.execute_input": "2023-09-28T18:04:21.609231Z",
     "iopub.status.busy": "2023-09-28T18:04:21.608811Z",
     "iopub.status.idle": "2023-09-28T18:04:21.618094Z",
     "shell.execute_reply": "2023-09-28T18:04:21.617012Z"
    },
    "papermill": {
     "duration": 0.042791,
     "end_time": "2023-09-28T18:04:21.620386",
     "exception": false,
     "start_time": "2023-09-28T18:04:21.577595",
     "status": "completed"
    },
    "tags": []
   },
   "outputs": [
    {
     "data": {
      "text/plain": [
       "PassengerId    0\n",
       "Pclass         0\n",
       "Name           0\n",
       "Sex            0\n",
       "Age            0\n",
       "SibSp          0\n",
       "Parch          0\n",
       "Fare           0\n",
       "Embarked       0\n",
       "Age_cat        0\n",
       "Fare_cat       0\n",
       "dtype: int64"
      ]
     },
     "execution_count": 45,
     "metadata": {},
     "output_type": "execute_result"
    }
   ],
   "source": [
    "test_df.isnull().sum()\n"
   ]
  },
  {
   "cell_type": "code",
   "execution_count": 46,
   "id": "a341dc19",
   "metadata": {
    "execution": {
     "iopub.execute_input": "2023-09-28T18:04:21.683953Z",
     "iopub.status.busy": "2023-09-28T18:04:21.683572Z",
     "iopub.status.idle": "2023-09-28T18:04:21.691901Z",
     "shell.execute_reply": "2023-09-28T18:04:21.690937Z"
    },
    "papermill": {
     "duration": 0.042377,
     "end_time": "2023-09-28T18:04:21.694029",
     "exception": false,
     "start_time": "2023-09-28T18:04:21.651652",
     "status": "completed"
    },
    "tags": []
   },
   "outputs": [],
   "source": [
    "X_train = bf.drop(columns=['Survived'], axis=1)\n",
    "Y_train = bf[\"Survived\"]\n",
    "X_test  = bft.drop(columns=['PassengerId'], axis=1).copy()"
   ]
  },
  {
   "cell_type": "markdown",
   "id": "98297515",
   "metadata": {
    "papermill": {
     "duration": 0.031336,
     "end_time": "2023-09-28T18:04:21.755597",
     "exception": false,
     "start_time": "2023-09-28T18:04:21.724261",
     "status": "completed"
    },
    "tags": []
   },
   "source": [
    "# Logistic Regression"
   ]
  },
  {
   "cell_type": "code",
   "execution_count": 47,
   "id": "500c95ee",
   "metadata": {
    "execution": {
     "iopub.execute_input": "2023-09-28T18:04:21.818498Z",
     "iopub.status.busy": "2023-09-28T18:04:21.817708Z",
     "iopub.status.idle": "2023-09-28T18:04:24.108576Z",
     "shell.execute_reply": "2023-09-28T18:04:24.107367Z"
    },
    "papermill": {
     "duration": 2.325244,
     "end_time": "2023-09-28T18:04:24.111228",
     "exception": false,
     "start_time": "2023-09-28T18:04:21.785984",
     "status": "completed"
    },
    "tags": []
   },
   "outputs": [
    {
     "name": "stdout",
     "output_type": "stream",
     "text": [
      "Training score 0.797979797979798\n",
      "Cross Validation 0.7890088506685079\n"
     ]
    }
   ],
   "source": [
    "\n",
    "from sklearn.linear_model import LogisticRegression\n",
    "from sklearn.model_selection import cross_val_score\n",
    "\n",
    "logistic_model = LogisticRegression()\n",
    "logistic_model.fit(X_train, Y_train)\n",
    "y_predl = logistic_model.predict(X_test)\n",
    "\n",
    "print(f\"Training score {logistic_model.score(X_train, Y_train)}\")\n",
    "print(f\"Cross Validation {cross_val_score(logistic_model, X_train, Y_train, cv=5, n_jobs=-1).mean()}\")\n",
    "acc_log=round(cross_val_score(logistic_model, X_train, Y_train, cv=5, n_jobs=-1).mean()* 100, 2)"
   ]
  },
  {
   "cell_type": "markdown",
   "id": "7cd75646",
   "metadata": {
    "papermill": {
     "duration": 0.030279,
     "end_time": "2023-09-28T18:04:24.172072",
     "exception": false,
     "start_time": "2023-09-28T18:04:24.141793",
     "status": "completed"
    },
    "tags": []
   },
   "source": [
    "# Descision Tree"
   ]
  },
  {
   "cell_type": "code",
   "execution_count": 48,
   "id": "f92a4dda",
   "metadata": {
    "execution": {
     "iopub.execute_input": "2023-09-28T18:04:24.235706Z",
     "iopub.status.busy": "2023-09-28T18:04:24.234797Z",
     "iopub.status.idle": "2023-09-28T18:04:24.508243Z",
     "shell.execute_reply": "2023-09-28T18:04:24.507066Z"
    },
    "papermill": {
     "duration": 0.308201,
     "end_time": "2023-09-28T18:04:24.510768",
     "exception": false,
     "start_time": "2023-09-28T18:04:24.202567",
     "status": "completed"
    },
    "tags": []
   },
   "outputs": [
    {
     "name": "stdout",
     "output_type": "stream",
     "text": [
      "Training score 0.9842873176206509\n",
      "Cross Validation 0.7609817337266963\n"
     ]
    }
   ],
   "source": [
    "from sklearn.tree import DecisionTreeClassifier as DTC\n",
    "tree_model = DTC()\n",
    "tree_model.fit(X_train,Y_train)\n",
    "y_predT = tree_model.predict(X_test)\n",
    "\n",
    "print(f\"Training score {tree_model.score(X_train, Y_train)}\")\n",
    "print(f\"Cross Validation {cross_val_score(tree_model, X_train, Y_train, cv=5, n_jobs=-1).mean()}\")\n",
    "acc_tree=round(cross_val_score(tree_model, X_train, Y_train, cv=5, n_jobs=-1).mean()* 100, 2)"
   ]
  },
  {
   "cell_type": "code",
   "execution_count": 49,
   "id": "a3754ed6",
   "metadata": {
    "execution": {
     "iopub.execute_input": "2023-09-28T18:04:24.574743Z",
     "iopub.status.busy": "2023-09-28T18:04:24.574180Z",
     "iopub.status.idle": "2023-09-28T18:04:24.697794Z",
     "shell.execute_reply": "2023-09-28T18:04:24.696735Z"
    },
    "papermill": {
     "duration": 0.158261,
     "end_time": "2023-09-28T18:04:24.700493",
     "exception": false,
     "start_time": "2023-09-28T18:04:24.542232",
     "status": "completed"
    },
    "tags": []
   },
   "outputs": [],
   "source": [
    "from sklearn.ensemble import (\n",
    "    RandomForestClassifier, \n",
    "    ExtraTreesClassifier,\n",
    "    VotingClassifier,\n",
    "    AdaBoostClassifier, \n",
    "    GradientBoostingClassifier,\n",
    "    )\n"
   ]
  },
  {
   "cell_type": "markdown",
   "id": "5ec4f9ea",
   "metadata": {
    "papermill": {
     "duration": 0.030298,
     "end_time": "2023-09-28T18:04:24.762022",
     "exception": false,
     "start_time": "2023-09-28T18:04:24.731724",
     "status": "completed"
    },
    "tags": []
   },
   "source": [
    "# Gradient Boosting"
   ]
  },
  {
   "cell_type": "code",
   "execution_count": 50,
   "id": "08ad2ec6",
   "metadata": {
    "execution": {
     "iopub.execute_input": "2023-09-28T18:04:24.824927Z",
     "iopub.status.busy": "2023-09-28T18:04:24.824090Z",
     "iopub.status.idle": "2023-09-28T18:04:25.867283Z",
     "shell.execute_reply": "2023-09-28T18:04:25.866337Z"
    },
    "papermill": {
     "duration": 1.077597,
     "end_time": "2023-09-28T18:04:25.869990",
     "exception": false,
     "start_time": "2023-09-28T18:04:24.792393",
     "status": "completed"
    },
    "tags": []
   },
   "outputs": [
    {
     "name": "stdout",
     "output_type": "stream",
     "text": [
      "Training score 0.9046015712682379\n",
      "Cross Validation 0.8282970309459545\n"
     ]
    }
   ],
   "source": [
    "gradient_model = GradientBoostingClassifier()\n",
    "gradient_model.fit(X_train, Y_train)\n",
    "y_predg = gradient_model.predict(X_test)\n",
    "\n",
    "print(f\"Training score {gradient_model.score(X_train, Y_train)}\")\n",
    "print(f\"Cross Validation {cross_val_score(gradient_model, X_train, Y_train, cv=5, n_jobs=-1).mean()}\")\n",
    "acc_forest=round(cross_val_score(gradient_model, X_train, Y_train, cv=5, n_jobs=-1).mean()* 100, 2)"
   ]
  },
  {
   "cell_type": "markdown",
   "id": "86d8112d",
   "metadata": {
    "papermill": {
     "duration": 0.030269,
     "end_time": "2023-09-28T18:04:25.931402",
     "exception": false,
     "start_time": "2023-09-28T18:04:25.901133",
     "status": "completed"
    },
    "tags": []
   },
   "source": [
    "# Random Forest"
   ]
  },
  {
   "cell_type": "code",
   "execution_count": 51,
   "id": "2616014b",
   "metadata": {
    "execution": {
     "iopub.execute_input": "2023-09-28T18:04:25.994448Z",
     "iopub.status.busy": "2023-09-28T18:04:25.993688Z",
     "iopub.status.idle": "2023-09-28T18:04:27.459524Z",
     "shell.execute_reply": "2023-09-28T18:04:27.458631Z"
    },
    "papermill": {
     "duration": 1.500507,
     "end_time": "2023-09-28T18:04:27.462576",
     "exception": false,
     "start_time": "2023-09-28T18:04:25.962069",
     "status": "completed"
    },
    "tags": []
   },
   "outputs": [
    {
     "name": "stdout",
     "output_type": "stream",
     "text": [
      "Training score 0.9079685746352413\n",
      "Cross Validation 0.8429239313835772\n"
     ]
    }
   ],
   "source": [
    "random_model = RandomForestClassifier(n_estimators=80, max_depth=8, random_state=1)\n",
    "random_model.fit(X_train, Y_train)\n",
    "y_predr = random_model.predict(X_test)\n",
    "\n",
    "print(f\"Training score {random_model.score(X_train, Y_train)}\")\n",
    "print(f\"Cross Validation {cross_val_score(random_model, X_train, Y_train, cv=7,n_jobs=-1).mean()}\")\n",
    "acc_forest=round(cross_val_score(random_model, X_train, Y_train, cv=5, n_jobs=-1).mean()* 100, 2)"
   ]
  },
  {
   "cell_type": "markdown",
   "id": "a27998fa",
   "metadata": {
    "papermill": {
     "duration": 0.030739,
     "end_time": "2023-09-28T18:04:27.525046",
     "exception": false,
     "start_time": "2023-09-28T18:04:27.494307",
     "status": "completed"
    },
    "tags": []
   },
   "source": [
    "# Ada Boost"
   ]
  },
  {
   "cell_type": "code",
   "execution_count": 52,
   "id": "a6ec059e",
   "metadata": {
    "execution": {
     "iopub.execute_input": "2023-09-28T18:04:27.589569Z",
     "iopub.status.busy": "2023-09-28T18:04:27.589150Z",
     "iopub.status.idle": "2023-09-28T18:04:28.516095Z",
     "shell.execute_reply": "2023-09-28T18:04:28.515116Z"
    },
    "papermill": {
     "duration": 0.962689,
     "end_time": "2023-09-28T18:04:28.519312",
     "exception": false,
     "start_time": "2023-09-28T18:04:27.556623",
     "status": "completed"
    },
    "tags": []
   },
   "outputs": [
    {
     "name": "stdout",
     "output_type": "stream",
     "text": [
      "Training score 0.8406285072951739\n",
      "Cross Validation 0.8126043562864854\n"
     ]
    }
   ],
   "source": [
    "boost_model = AdaBoostClassifier(random_state=42)\n",
    "\n",
    "boost_model.fit(X_train, Y_train)\n",
    "y_preda = boost_model.predict(X_test)\n",
    "\n",
    "print(f\"Training score {boost_model.score(X_train, Y_train)}\")\n",
    "print(f\"Cross Validation {cross_val_score(boost_model, X_train, Y_train, cv=5, n_jobs=-1).mean()}\")\n",
    "acc_ada=round(cross_val_score(boost_model, X_train, Y_train, cv=5, n_jobs=-1).mean() * 100, 2)"
   ]
  },
  {
   "cell_type": "markdown",
   "id": "0f840d4f",
   "metadata": {
    "papermill": {
     "duration": 0.031058,
     "end_time": "2023-09-28T18:04:28.589613",
     "exception": false,
     "start_time": "2023-09-28T18:04:28.558555",
     "status": "completed"
    },
    "tags": []
   },
   "source": [
    "# Voting"
   ]
  },
  {
   "cell_type": "code",
   "execution_count": 53,
   "id": "aae1da60",
   "metadata": {
    "execution": {
     "iopub.execute_input": "2023-09-28T18:04:28.655132Z",
     "iopub.status.busy": "2023-09-28T18:04:28.654109Z",
     "iopub.status.idle": "2023-09-28T18:04:30.661739Z",
     "shell.execute_reply": "2023-09-28T18:04:30.660264Z"
    },
    "papermill": {
     "duration": 2.043737,
     "end_time": "2023-09-28T18:04:30.664579",
     "exception": false,
     "start_time": "2023-09-28T18:04:28.620842",
     "status": "completed"
    },
    "tags": []
   },
   "outputs": [
    {
     "name": "stdout",
     "output_type": "stream",
     "text": [
      "Training score 0.9034792368125701\n",
      "Cross Validation 0.8316489862532169\n"
     ]
    }
   ],
   "source": [
    "combined = VotingClassifier(estimators=[('lr',logistic_model), ('dt', tree_model), ('rf', random_model), ('ab', boost_model),('gb',gradient_model)], voting='hard')\n",
    "combined.fit(X_train, Y_train)\n",
    "y_predv = boost_model.predict(X_test)\n",
    "print(f\"Training score {combined.score(X_train, Y_train)}\")\n",
    "print(f\"Cross Validation {cross_val_score(combined, X_train, Y_train, cv=5, n_jobs=-1).mean()}\")\n"
   ]
  },
  {
   "cell_type": "code",
   "execution_count": 54,
   "id": "7b09bb45",
   "metadata": {
    "execution": {
     "iopub.execute_input": "2023-09-28T18:04:30.731979Z",
     "iopub.status.busy": "2023-09-28T18:04:30.731181Z",
     "iopub.status.idle": "2023-09-28T18:04:30.745658Z",
     "shell.execute_reply": "2023-09-28T18:04:30.744571Z"
    },
    "papermill": {
     "duration": 0.049972,
     "end_time": "2023-09-28T18:04:30.747963",
     "exception": false,
     "start_time": "2023-09-28T18:04:30.697991",
     "status": "completed"
    },
    "tags": []
   },
   "outputs": [
    {
     "data": {
      "text/html": [
       "<div>\n",
       "<style scoped>\n",
       "    .dataframe tbody tr th:only-of-type {\n",
       "        vertical-align: middle;\n",
       "    }\n",
       "\n",
       "    .dataframe tbody tr th {\n",
       "        vertical-align: top;\n",
       "    }\n",
       "\n",
       "    .dataframe thead th {\n",
       "        text-align: right;\n",
       "    }\n",
       "</style>\n",
       "<table border=\"1\" class=\"dataframe\">\n",
       "  <thead>\n",
       "    <tr style=\"text-align: right;\">\n",
       "      <th></th>\n",
       "      <th>Model</th>\n",
       "    </tr>\n",
       "    <tr>\n",
       "      <th>Score</th>\n",
       "      <th></th>\n",
       "    </tr>\n",
       "  </thead>\n",
       "  <tbody>\n",
       "    <tr>\n",
       "      <th>83.61</th>\n",
       "      <td>Random Forest</td>\n",
       "    </tr>\n",
       "    <tr>\n",
       "      <th>81.26</th>\n",
       "      <td>Ada Boost</td>\n",
       "    </tr>\n",
       "    <tr>\n",
       "      <th>78.90</th>\n",
       "      <td>Logistic Regression</td>\n",
       "    </tr>\n",
       "    <tr>\n",
       "      <th>75.87</th>\n",
       "      <td>Decision Tree</td>\n",
       "    </tr>\n",
       "  </tbody>\n",
       "</table>\n",
       "</div>"
      ],
      "text/plain": [
       "                     Model\n",
       "Score                     \n",
       "83.61        Random Forest\n",
       "81.26            Ada Boost\n",
       "78.90  Logistic Regression\n",
       "75.87        Decision Tree"
      ]
     },
     "execution_count": 54,
     "metadata": {},
     "output_type": "execute_result"
    }
   ],
   "source": [
    "results = pd.DataFrame({\n",
    "    'Model': [ 'Logistic Regression','Random Forest', 'Ada Boost', 'Decision Tree'],\n",
    "    'Score': [ acc_log,acc_forest, acc_ada, acc_tree]})\n",
    "result_df = results.sort_values(by='Score', ascending=False)\n",
    "result_df = result_df.set_index('Score')\n",
    "result_df.head(9)"
   ]
  },
  {
   "cell_type": "code",
   "execution_count": 55,
   "id": "7b5329a0",
   "metadata": {
    "execution": {
     "iopub.execute_input": "2023-09-28T18:04:30.813624Z",
     "iopub.status.busy": "2023-09-28T18:04:30.813163Z",
     "iopub.status.idle": "2023-09-28T18:04:30.830692Z",
     "shell.execute_reply": "2023-09-28T18:04:30.829901Z"
    },
    "papermill": {
     "duration": 0.052684,
     "end_time": "2023-09-28T18:04:30.832981",
     "exception": false,
     "start_time": "2023-09-28T18:04:30.780297",
     "status": "completed"
    },
    "tags": []
   },
   "outputs": [
    {
     "data": {
      "text/html": [
       "<div>\n",
       "<style scoped>\n",
       "    .dataframe tbody tr th:only-of-type {\n",
       "        vertical-align: middle;\n",
       "    }\n",
       "\n",
       "    .dataframe tbody tr th {\n",
       "        vertical-align: top;\n",
       "    }\n",
       "\n",
       "    .dataframe thead th {\n",
       "        text-align: right;\n",
       "    }\n",
       "</style>\n",
       "<table border=\"1\" class=\"dataframe\">\n",
       "  <thead>\n",
       "    <tr style=\"text-align: right;\">\n",
       "      <th></th>\n",
       "      <th>PassengerId</th>\n",
       "      <th>Survived</th>\n",
       "    </tr>\n",
       "  </thead>\n",
       "  <tbody>\n",
       "    <tr>\n",
       "      <th>0</th>\n",
       "      <td>892</td>\n",
       "      <td>0</td>\n",
       "    </tr>\n",
       "    <tr>\n",
       "      <th>1</th>\n",
       "      <td>893</td>\n",
       "      <td>0</td>\n",
       "    </tr>\n",
       "    <tr>\n",
       "      <th>2</th>\n",
       "      <td>894</td>\n",
       "      <td>0</td>\n",
       "    </tr>\n",
       "    <tr>\n",
       "      <th>3</th>\n",
       "      <td>895</td>\n",
       "      <td>0</td>\n",
       "    </tr>\n",
       "    <tr>\n",
       "      <th>4</th>\n",
       "      <td>896</td>\n",
       "      <td>1</td>\n",
       "    </tr>\n",
       "  </tbody>\n",
       "</table>\n",
       "</div>"
      ],
      "text/plain": [
       "   PassengerId  Survived\n",
       "0          892         0\n",
       "1          893         0\n",
       "2          894         0\n",
       "3          895         0\n",
       "4          896         1"
      ]
     },
     "execution_count": 55,
     "metadata": {},
     "output_type": "execute_result"
    }
   ],
   "source": [
    "sumbission=pd.DataFrame()\n",
    "sumbission['PassengerId']=test_df['PassengerId']\n",
    "sumbission['Survived']=y_predr\n",
    "sumbission.to_csv('/kaggle/working/submission.csv', index=False)\n",
    "sumbission.head()"
   ]
  }
 ],
 "metadata": {
  "kernelspec": {
   "display_name": "Python 3",
   "language": "python",
   "name": "python3"
  },
  "language_info": {
   "codemirror_mode": {
    "name": "ipython",
    "version": 3
   },
   "file_extension": ".py",
   "mimetype": "text/x-python",
   "name": "python",
   "nbconvert_exporter": "python",
   "pygments_lexer": "ipython3",
   "version": "3.10.12"
  },
  "papermill": {
   "default_parameters": {},
   "duration": 36.300307,
   "end_time": "2023-09-28T18:04:33.486081",
   "environment_variables": {},
   "exception": null,
   "input_path": "__notebook__.ipynb",
   "output_path": "__notebook__.ipynb",
   "parameters": {},
   "start_time": "2023-09-28T18:03:57.185774",
   "version": "2.4.0"
  }
 },
 "nbformat": 4,
 "nbformat_minor": 5
}
